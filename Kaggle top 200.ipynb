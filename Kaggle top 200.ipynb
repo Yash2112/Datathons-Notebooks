{
  "nbformat": 4,
  "nbformat_minor": 0,
  "metadata": {
    "colab": {
      "name": "MAY2019 Deep Learning Start.ipynb",
      "version": "0.3.2",
      "provenance": [],
      "collapsed_sections": []
    },
    "kernelspec": {
      "name": "python3",
      "display_name": "Python 3"
    },
    "accelerator": "GPU"
  },
  "cells": [
    {
      "metadata": {
        "id": "l1XohRIyAz9X",
        "colab_type": "code",
        "colab": {}
      },
      "cell_type": "code",
      "source": [
        "import pandas as pd\n",
        "import numpy as np"
      ],
      "execution_count": 0,
      "outputs": []
    },
    {
      "metadata": {
        "id": "WHU1dbMzA6zv",
        "colab_type": "code",
        "colab": {
          "base_uri": "https://localhost:8080/",
          "height": 125
        },
        "outputId": "1e6c2871-8b4d-4565-9a39-dc3a182c45f8"
      },
      "cell_type": "code",
      "source": [
        "from google.colab import drive\n",
        "drive.mount('/content/drive')"
      ],
      "execution_count": 2,
      "outputs": [
        {
          "output_type": "stream",
          "text": [
            "Go to this URL in a browser: https://accounts.google.com/o/oauth2/auth?client_id=947318989803-6bn6qk8qdgf4n4g3pfee6491hc0brc4i.apps.googleusercontent.com&redirect_uri=urn%3Aietf%3Awg%3Aoauth%3A2.0%3Aoob&scope=email%20https%3A%2F%2Fwww.googleapis.com%2Fauth%2Fdocs.test%20https%3A%2F%2Fwww.googleapis.com%2Fauth%2Fdrive%20https%3A%2F%2Fwww.googleapis.com%2Fauth%2Fdrive.photos.readonly%20https%3A%2F%2Fwww.googleapis.com%2Fauth%2Fpeopleapi.readonly&response_type=code\n",
            "\n",
            "Enter your authorization code:\n",
            "··········\n",
            "Mounted at /content/drive\n"
          ],
          "name": "stdout"
        }
      ]
    },
    {
      "metadata": {
        "id": "5TRvOu3aB5bS",
        "colab_type": "code",
        "colab": {
          "base_uri": "https://localhost:8080/",
          "height": 34
        },
        "outputId": "bdbb1c34-2272-4c7e-9880-c4bc24cf2c4b"
      },
      "cell_type": "code",
      "source": [
        "train_data = pd.read_csv('drive/My Drive/MNIST/train.csv')\n",
        "test_data  = pd.read_csv('drive/My Drive/MNIST/test.csv')\n",
        "sample     = pd.read_csv('drive/My Drive/MNIST/sample_submission.csv')\n",
        "train_data.shape, test_data.shape"
      ],
      "execution_count": 3,
      "outputs": [
        {
          "output_type": "execute_result",
          "data": {
            "text/plain": [
              "((42000, 785), (28000, 784))"
            ]
          },
          "metadata": {
            "tags": []
          },
          "execution_count": 3
        }
      ]
    },
    {
      "metadata": {
        "id": "ZRfLqlL-EQti",
        "colab_type": "code",
        "colab": {}
      },
      "cell_type": "code",
      "source": [
        "import numpy as np # linear algebra\n",
        "import matplotlib.pyplot as plt\n",
        "%matplotlib inline\n",
        "from sklearn.model_selection import train_test_split\n",
        "from sklearn.metrics import confusion_matrix"
      ],
      "execution_count": 0,
      "outputs": []
    },
    {
      "metadata": {
        "id": "DH6JdhyfCaQr",
        "colab_type": "code",
        "colab": {
          "base_uri": "https://localhost:8080/",
          "height": 34
        },
        "outputId": "e562d116-4f72-4f39-ecef-48613c1b7b5d"
      },
      "cell_type": "code",
      "source": [
        "from keras.utils.np_utils import to_categorical # convert to one-hot-encoding\n",
        "from keras.models import Sequential\n",
        "from keras.layers import Dense, Dropout, Flatten, Conv2D, MaxPool2D, BatchNormalization\n",
        "from keras.optimizers import Adam\n",
        "from keras.preprocessing.image import ImageDataGenerator\n",
        "from keras.callbacks import LearningRateScheduler\n",
        "from keras.optimizers import RMSprop\n",
        "from keras.callbacks import ReduceLROnPlateau"
      ],
      "execution_count": 5,
      "outputs": [
        {
          "output_type": "stream",
          "text": [
            "Using TensorFlow backend.\n"
          ],
          "name": "stderr"
        }
      ]
    },
    {
      "metadata": {
        "id": "3_83f252DhoT",
        "colab_type": "code",
        "colab": {
          "base_uri": "https://localhost:8080/",
          "height": 246
        },
        "outputId": "6b2bf9ce-c08b-4b5d-c402-74a235433c63"
      },
      "cell_type": "code",
      "source": [
        "train_data.head()"
      ],
      "execution_count": 9,
      "outputs": [
        {
          "output_type": "execute_result",
          "data": {
            "text/html": [
              "<div>\n",
              "<style scoped>\n",
              "    .dataframe tbody tr th:only-of-type {\n",
              "        vertical-align: middle;\n",
              "    }\n",
              "\n",
              "    .dataframe tbody tr th {\n",
              "        vertical-align: top;\n",
              "    }\n",
              "\n",
              "    .dataframe thead th {\n",
              "        text-align: right;\n",
              "    }\n",
              "</style>\n",
              "<table border=\"1\" class=\"dataframe\">\n",
              "  <thead>\n",
              "    <tr style=\"text-align: right;\">\n",
              "      <th></th>\n",
              "      <th>label</th>\n",
              "      <th>pixel0</th>\n",
              "      <th>pixel1</th>\n",
              "      <th>pixel2</th>\n",
              "      <th>pixel3</th>\n",
              "      <th>pixel4</th>\n",
              "      <th>pixel5</th>\n",
              "      <th>pixel6</th>\n",
              "      <th>pixel7</th>\n",
              "      <th>pixel8</th>\n",
              "      <th>...</th>\n",
              "      <th>pixel774</th>\n",
              "      <th>pixel775</th>\n",
              "      <th>pixel776</th>\n",
              "      <th>pixel777</th>\n",
              "      <th>pixel778</th>\n",
              "      <th>pixel779</th>\n",
              "      <th>pixel780</th>\n",
              "      <th>pixel781</th>\n",
              "      <th>pixel782</th>\n",
              "      <th>pixel783</th>\n",
              "    </tr>\n",
              "  </thead>\n",
              "  <tbody>\n",
              "    <tr>\n",
              "      <th>0</th>\n",
              "      <td>1</td>\n",
              "      <td>0</td>\n",
              "      <td>0</td>\n",
              "      <td>0</td>\n",
              "      <td>0</td>\n",
              "      <td>0</td>\n",
              "      <td>0</td>\n",
              "      <td>0</td>\n",
              "      <td>0</td>\n",
              "      <td>0</td>\n",
              "      <td>...</td>\n",
              "      <td>0</td>\n",
              "      <td>0</td>\n",
              "      <td>0</td>\n",
              "      <td>0</td>\n",
              "      <td>0</td>\n",
              "      <td>0</td>\n",
              "      <td>0</td>\n",
              "      <td>0</td>\n",
              "      <td>0</td>\n",
              "      <td>0</td>\n",
              "    </tr>\n",
              "    <tr>\n",
              "      <th>1</th>\n",
              "      <td>0</td>\n",
              "      <td>0</td>\n",
              "      <td>0</td>\n",
              "      <td>0</td>\n",
              "      <td>0</td>\n",
              "      <td>0</td>\n",
              "      <td>0</td>\n",
              "      <td>0</td>\n",
              "      <td>0</td>\n",
              "      <td>0</td>\n",
              "      <td>...</td>\n",
              "      <td>0</td>\n",
              "      <td>0</td>\n",
              "      <td>0</td>\n",
              "      <td>0</td>\n",
              "      <td>0</td>\n",
              "      <td>0</td>\n",
              "      <td>0</td>\n",
              "      <td>0</td>\n",
              "      <td>0</td>\n",
              "      <td>0</td>\n",
              "    </tr>\n",
              "    <tr>\n",
              "      <th>2</th>\n",
              "      <td>1</td>\n",
              "      <td>0</td>\n",
              "      <td>0</td>\n",
              "      <td>0</td>\n",
              "      <td>0</td>\n",
              "      <td>0</td>\n",
              "      <td>0</td>\n",
              "      <td>0</td>\n",
              "      <td>0</td>\n",
              "      <td>0</td>\n",
              "      <td>...</td>\n",
              "      <td>0</td>\n",
              "      <td>0</td>\n",
              "      <td>0</td>\n",
              "      <td>0</td>\n",
              "      <td>0</td>\n",
              "      <td>0</td>\n",
              "      <td>0</td>\n",
              "      <td>0</td>\n",
              "      <td>0</td>\n",
              "      <td>0</td>\n",
              "    </tr>\n",
              "    <tr>\n",
              "      <th>3</th>\n",
              "      <td>4</td>\n",
              "      <td>0</td>\n",
              "      <td>0</td>\n",
              "      <td>0</td>\n",
              "      <td>0</td>\n",
              "      <td>0</td>\n",
              "      <td>0</td>\n",
              "      <td>0</td>\n",
              "      <td>0</td>\n",
              "      <td>0</td>\n",
              "      <td>...</td>\n",
              "      <td>0</td>\n",
              "      <td>0</td>\n",
              "      <td>0</td>\n",
              "      <td>0</td>\n",
              "      <td>0</td>\n",
              "      <td>0</td>\n",
              "      <td>0</td>\n",
              "      <td>0</td>\n",
              "      <td>0</td>\n",
              "      <td>0</td>\n",
              "    </tr>\n",
              "    <tr>\n",
              "      <th>4</th>\n",
              "      <td>0</td>\n",
              "      <td>0</td>\n",
              "      <td>0</td>\n",
              "      <td>0</td>\n",
              "      <td>0</td>\n",
              "      <td>0</td>\n",
              "      <td>0</td>\n",
              "      <td>0</td>\n",
              "      <td>0</td>\n",
              "      <td>0</td>\n",
              "      <td>...</td>\n",
              "      <td>0</td>\n",
              "      <td>0</td>\n",
              "      <td>0</td>\n",
              "      <td>0</td>\n",
              "      <td>0</td>\n",
              "      <td>0</td>\n",
              "      <td>0</td>\n",
              "      <td>0</td>\n",
              "      <td>0</td>\n",
              "      <td>0</td>\n",
              "    </tr>\n",
              "  </tbody>\n",
              "</table>\n",
              "<p>5 rows × 785 columns</p>\n",
              "</div>"
            ],
            "text/plain": [
              "   label  pixel0  pixel1  pixel2  pixel3  pixel4  pixel5  pixel6  pixel7  \\\n",
              "0      1       0       0       0       0       0       0       0       0   \n",
              "1      0       0       0       0       0       0       0       0       0   \n",
              "2      1       0       0       0       0       0       0       0       0   \n",
              "3      4       0       0       0       0       0       0       0       0   \n",
              "4      0       0       0       0       0       0       0       0       0   \n",
              "\n",
              "   pixel8  ...  pixel774  pixel775  pixel776  pixel777  pixel778  pixel779  \\\n",
              "0       0  ...         0         0         0         0         0         0   \n",
              "1       0  ...         0         0         0         0         0         0   \n",
              "2       0  ...         0         0         0         0         0         0   \n",
              "3       0  ...         0         0         0         0         0         0   \n",
              "4       0  ...         0         0         0         0         0         0   \n",
              "\n",
              "   pixel780  pixel781  pixel782  pixel783  \n",
              "0         0         0         0         0  \n",
              "1         0         0         0         0  \n",
              "2         0         0         0         0  \n",
              "3         0         0         0         0  \n",
              "4         0         0         0         0  \n",
              "\n",
              "[5 rows x 785 columns]"
            ]
          },
          "metadata": {
            "tags": []
          },
          "execution_count": 9
        }
      ]
    },
    {
      "metadata": {
        "id": "F4_oSkIZD-u3",
        "colab_type": "code",
        "colab": {
          "base_uri": "https://localhost:8080/",
          "height": 34
        },
        "outputId": "f9c5b7c8-6435-42a1-93d0-9d49fbff0a19"
      },
      "cell_type": "code",
      "source": [
        "train, val = train_test_split(train_data, test_size = 0.2)\n",
        "train_x = train.drop('label', axis = 1)\n",
        "train_y = train['label']\n",
        "val_x   = val.drop('label', axis = 1)\n",
        "val_y   = val['label']\n",
        "train_x.shape, train_y.shape, val_x.shape, val_y.shape"
      ],
      "execution_count": 10,
      "outputs": [
        {
          "output_type": "execute_result",
          "data": {
            "text/plain": [
              "((33600, 784), (33600,), (8400, 784), (8400,))"
            ]
          },
          "metadata": {
            "tags": []
          },
          "execution_count": 10
        }
      ]
    },
    {
      "metadata": {
        "id": "E9Zp_OhhGDLu",
        "colab_type": "text"
      },
      "cell_type": "markdown",
      "source": [
        "Each data point consists of 784 values. A fully connected net just treats all these values the same, but a CNN treats it as a 28x28 square. Thes two graphs explain the difference: It's easy to understand why a CNN can get better results."
      ]
    },
    {
      "metadata": {
        "id": "SeClIEzUFrQJ",
        "colab_type": "code",
        "colab": {
          "base_uri": "https://localhost:8080/",
          "height": 733
        },
        "outputId": "e5269470-cfd8-4f0e-b3af-87e67b664954"
      },
      "cell_type": "code",
      "source": [
        "fig, ax = plt.subplots(2, 1, figsize=(20,12))\n",
        "ax[0].plot(train_x.iloc[11,0:])\n",
        "ax[0].set_title('784x1 data')\n",
        "ax[1].imshow(train_x.iloc[11,0:].values.reshape(28,28), cmap='gray')\n",
        "ax[1].set_title('28x28 data')"
      ],
      "execution_count": 48,
      "outputs": [
        {
          "output_type": "execute_result",
          "data": {
            "text/plain": [
              "Text(0.5, 1.0, '28x28 data')"
            ]
          },
          "metadata": {
            "tags": []
          },
          "execution_count": 48
        },
        {
          "output_type": "display_data",
          "data": {
            "image/png": "[encoded data removed]",
            "text/plain": [
              "<Figure size 1440x864 with 2 Axes>"
            ]
          },
          "metadata": {
            "tags": []
          }
        }
      ]
    },
    {
      "metadata": {
        "id": "vPj53y2ZKreS",
        "colab_type": "text"
      },
      "cell_type": "markdown",
      "source": [
        "We now reshape all data this way. Keras wants an extra dimension in the end, for channels. If this had been RGB images, there would have been 3 channels, but as MNIST is gray scale it only uses one.\n",
        "\n",
        "This notebook is written for the tensorflow channel ordering. If you have Keras installed for Theano backend, you might start seeing some error message soon related to channel ordering. This can easily be solved."
      ]
    },
    {
      "metadata": {
        "id": "CDlVagDWJHkB",
        "colab_type": "code",
        "colab": {}
      },
      "cell_type": "code",
      "source": [
        "# Reshape image in 3 dimensions (height = 28px, width = 28px , canal = 1)\n",
        "x_train = train_x.values.reshape(-1, 28, 28, 1)\n",
        "x_val   = val_x.values.reshape(-1, 28, 28, 1)"
      ],
      "execution_count": 0,
      "outputs": []
    },
    {
      "metadata": {
        "id": "_5iBPUaJSVpa",
        "colab_type": "text"
      },
      "cell_type": "markdown",
      "source": [
        "It would be possible to train the net on the original data, with pixel values 0 to 255. If we use the standard initialization methods for weights, however, data between 0 and 1 should make the net converge faster."
      ]
    },
    {
      "metadata": {
        "id": "JjBZBBzeGJTS",
        "colab_type": "code",
        "colab": {}
      },
      "cell_type": "code",
      "source": [
        "x_train = x_train.astype(\"float32\")/255.\n",
        "x_val   = x_val.astype(\"float32\")/255."
      ],
      "execution_count": 0,
      "outputs": []
    },
    {
      "metadata": {
        "id": "SIPD52xoSdw6",
        "colab_type": "code",
        "colab": {
          "base_uri": "https://localhost:8080/",
          "height": 34
        },
        "outputId": "a1e02665-a88a-469a-8145-c4454f21c7a6"
      },
      "cell_type": "code",
      "source": [
        "x_train.shape"
      ],
      "execution_count": 24,
      "outputs": [
        {
          "output_type": "execute_result",
          "data": {
            "text/plain": [
              "(33600, 28, 28, 1)"
            ]
          },
          "metadata": {
            "tags": []
          },
          "execution_count": 24
        }
      ]
    },
    {
      "metadata": {
        "id": "s62ZskqrSoxm",
        "colab_type": "text"
      },
      "cell_type": "markdown",
      "source": [
        "The labels were given as integers between 0 and 9. We need to convert these to one-hot encoding, i.e. a 10x1 array with one 1 and nine 0:s, with the position of the 1 showing us the value. See the example, with the position of the 1 showing the correct value for the digit in the graph above."
      ]
    },
    {
      "metadata": {
        "id": "LcRJCBC7SnX0",
        "colab_type": "code",
        "colab": {
          "base_uri": "https://localhost:8080/",
          "height": 34
        },
        "outputId": "2d5513f2-b069-4fa3-80e2-14890166b3f3"
      },
      "cell_type": "code",
      "source": [
        "y_train = to_categorical(train_y)\n",
        "y_val   = to_categorical(val_y)\n",
        "#example:\n",
        "print(y_train[11])"
      ],
      "execution_count": 13,
      "outputs": [
        {
          "output_type": "stream",
          "text": [
            "[0. 0. 0. 0. 0. 0. 0. 0. 0. 1.]\n"
          ],
          "name": "stdout"
        }
      ]
    },
    {
      "metadata": {
        "id": "pQ3JE2UuTDe4",
        "colab_type": "text"
      },
      "cell_type": "markdown",
      "source": [
        "Train the model\n",
        "Keras offers two different ways of defining a network. We will the Sequential API, where you just add on one layer at a time, starting from the input.\n",
        "\n",
        "The most important part are the convolutional layers Conv2D. Here they have 16-32 filters that use nine weights each to transform a pixel to a weighted average of itself and its eight neighbors. As the same nine weights are used over the whole image, the net will pick up features that are useful everywhere. As it is only nine weights, we can stack many convolutional layers on top of each other without running out of memory/time.\n",
        "\n",
        "The MaxPooling layers just look at four neighboring pixels and picks the maximal value. This reduces the size of the image by half, and by combining convolutional and pooling layers, the net be able to combine its features to learn more global features of the image. In the end we use the features in two fully-connected (Dense) layers.\n",
        "\n",
        "Batch Normalization is a technical trick to make training faster. Dropout is a regularization method, where the layer randomly replaces a proportion of its weights to zero for each training sample. This forces the net to learn features in a distributed way, not relying to much on a particular weight, and therefore improves generalization. 'relu' is the activation function x -> max(x,0)"
      ]
    },
    {
      "metadata": {
        "id": "lPm_vXkeStNL",
        "colab_type": "code",
        "colab": {}
      },
      "cell_type": "code",
      "source": [
        "model = Sequential()\n",
        "\n",
        "model.add(Conv2D(filters = 16, kernel_size = (3, 3), activation='relu',\n",
        "                 input_shape = (28, 28, 1)))\n",
        "model.add(BatchNormalization())\n",
        "model.add(Conv2D(filters = 16, kernel_size = (3, 3), activation='relu'))\n",
        "model.add(BatchNormalization())\n",
        "#model.add(Conv2D(filters = 16, kernel_size = (3, 3), activation='relu'))\n",
        "#model.add(BatchNormalization())\n",
        "model.add(MaxPool2D(strides=(2,2)))\n",
        "model.add(Dropout(0.25))\n",
        "\n",
        "model.add(Conv2D(filters = 32, kernel_size = (3, 3), activation='relu'))\n",
        "model.add(BatchNormalization())\n",
        "model.add(Conv2D(filters = 32, kernel_size = (3, 3), activation='relu'))\n",
        "model.add(BatchNormalization())\n",
        "#model.add(Conv2D(filters = 32, kernel_size = (3, 3), activation='relu'))\n",
        "#model.add(BatchNormalization())\n",
        "model.add(MaxPool2D(strides=(2,2)))\n",
        "model.add(Dropout(0.25))\n",
        "\n",
        "model.add(Flatten())\n",
        "model.add(Dense(512, activation='relu'))\n",
        "model.add(Dropout(0.25))\n",
        "model.add(Dense(1024, activation='relu'))\n",
        "model.add(Dropout(0.5))\n",
        "model.add(Dense(10, activation='softmax'))"
      ],
      "execution_count": 0,
      "outputs": []
    },
    {
      "metadata": {
        "id": "CtxOfOL6Tr0i",
        "colab_type": "text"
      },
      "cell_type": "markdown",
      "source": [
        "Another important method to improve generalization is augmentation. This means generating more training data by randomly perturbing the images. If done in the right way, it can force the net to only learn translation-invariant features. If you train this model over hundreds of epochs, augmentation will definitely improve your performance. Here in the Kernel, we will only look at each image 4-5 times, so the difference is smaller. We use a Keras function for augmentation."
      ]
    },
    {
      "metadata": {
        "id": "dpJLwGOvTRAR",
        "colab_type": "code",
        "colab": {}
      },
      "cell_type": "code",
      "source": [
        "datagen = ImageDataGenerator(zoom_range = 0.1,\n",
        "                            height_shift_range = 0.1,\n",
        "                            width_shift_range = 0.1,\n",
        "                            rotation_range = 10)"
      ],
      "execution_count": 0,
      "outputs": []
    },
    {
      "metadata": {
        "id": "BgvOUNnbUERV",
        "colab_type": "text"
      },
      "cell_type": "markdown",
      "source": [
        "The model needs to be compiled before training can start. As our loss function, we use logloss which is called ''categorical_crossentropy\" in Keras. Metrics is only used for evaluation. As optimizer, we could have used ordinary stochastic gradient descent (SGD), but Adam is faster."
      ]
    },
    {
      "metadata": {
        "id": "mfEP4zlCTyzK",
        "colab_type": "code",
        "colab": {}
      },
      "cell_type": "code",
      "source": [
        "model.compile(loss='categorical_crossentropy', optimizer = Adam(lr=1e-4), metrics=[\"accuracy\"])"
      ],
      "execution_count": 0,
      "outputs": []
    },
    {
      "metadata": {
        "id": "ODvnHju7USBs",
        "colab_type": "text"
      },
      "cell_type": "markdown",
      "source": [
        "We train once with a smaller learning rate to ensure convergence. We then speed things up, only to reduce the learning rate by 10% every epoch. Keras has a function for this:"
      ]
    },
    {
      "metadata": {
        "id": "Dd4zDGsAUIL5",
        "colab_type": "code",
        "colab": {}
      },
      "cell_type": "code",
      "source": [
        "annealer = LearningRateScheduler(lambda x: 1e-3 * 0.9 ** x)"
      ],
      "execution_count": 0,
      "outputs": []
    },
    {
      "metadata": {
        "id": "5HjTlifdUbOT",
        "colab_type": "text"
      },
      "cell_type": "markdown",
      "source": [
        "We will use a very small validation set during training to save time in the kernel."
      ]
    },
    {
      "metadata": {
        "id": "5LdaSnf3UW1T",
        "colab_type": "code",
        "colab": {
          "base_uri": "https://localhost:8080/",
          "height": 1438
        },
        "outputId": "ec701b27-fa92-4b64-fe87-7c2f93a43120"
      },
      "cell_type": "code",
      "source": [
        "hist = model.fit_generator(datagen.flow(x_train, y_train, batch_size=16),\n",
        "                           steps_per_epoch=500,\n",
        "                           epochs=40, #Increase this when not on Kaggle kernel\n",
        "                           verbose=2,  #1 for ETA, 0 for silent\n",
        "                           validation_data=(x_val[:400,:], y_val[:400,:]), #For speed\n",
        "                           callbacks=[annealer])"
      ],
      "execution_count": 92,
      "outputs": [
        {
          "output_type": "stream",
          "text": [
            "Epoch 1/40\n",
            " - 37s - loss: 0.8967 - acc: 0.7188 - val_loss: 0.1516 - val_acc: 0.9425\n",
            "Epoch 2/40\n",
            " - 32s - loss: 0.3468 - acc: 0.8950 - val_loss: 0.1147 - val_acc: 0.9625\n",
            "Epoch 3/40\n",
            " - 32s - loss: 0.2519 - acc: 0.9239 - val_loss: 0.0972 - val_acc: 0.9725\n",
            "Epoch 4/40\n",
            " - 33s - loss: 0.2225 - acc: 0.9369 - val_loss: 0.0848 - val_acc: 0.9675\n",
            "Epoch 5/40\n",
            " - 32s - loss: 0.1823 - acc: 0.9473 - val_loss: 0.0695 - val_acc: 0.9750\n",
            "Epoch 6/40\n",
            " - 32s - loss: 0.1614 - acc: 0.9546 - val_loss: 0.0415 - val_acc: 0.9900\n",
            "Epoch 7/40\n",
            " - 32s - loss: 0.1431 - acc: 0.9583 - val_loss: 0.0490 - val_acc: 0.9850\n",
            "Epoch 8/40\n",
            " - 32s - loss: 0.1445 - acc: 0.9576 - val_loss: 0.0526 - val_acc: 0.9825\n",
            "Epoch 9/40\n",
            " - 32s - loss: 0.1307 - acc: 0.9605 - val_loss: 0.0339 - val_acc: 0.9875\n",
            "Epoch 10/40\n",
            " - 32s - loss: 0.1208 - acc: 0.9633 - val_loss: 0.0256 - val_acc: 0.9900\n",
            "Epoch 11/40\n",
            " - 33s - loss: 0.1092 - acc: 0.9684 - val_loss: 0.0369 - val_acc: 0.9875\n",
            "Epoch 12/40\n",
            " - 32s - loss: 0.1168 - acc: 0.9680 - val_loss: 0.0350 - val_acc: 0.9950\n",
            "Epoch 13/40\n",
            " - 33s - loss: 0.0967 - acc: 0.9722 - val_loss: 0.0258 - val_acc: 0.9925\n",
            "Epoch 14/40\n",
            " - 32s - loss: 0.1004 - acc: 0.9698 - val_loss: 0.0342 - val_acc: 0.9875\n",
            "Epoch 15/40\n",
            " - 32s - loss: 0.1063 - acc: 0.9691 - val_loss: 0.0191 - val_acc: 0.9925\n",
            "Epoch 16/40\n",
            " - 32s - loss: 0.0830 - acc: 0.9765 - val_loss: 0.0195 - val_acc: 0.9925\n",
            "Epoch 17/40\n",
            " - 33s - loss: 0.0739 - acc: 0.9785 - val_loss: 0.0304 - val_acc: 0.9875\n",
            "Epoch 18/40\n",
            " - 33s - loss: 0.0711 - acc: 0.9788 - val_loss: 0.0233 - val_acc: 0.9925\n",
            "Epoch 19/40\n",
            " - 33s - loss: 0.0728 - acc: 0.9795 - val_loss: 0.0182 - val_acc: 0.9900\n",
            "Epoch 20/40\n",
            " - 34s - loss: 0.0822 - acc: 0.9759 - val_loss: 0.0151 - val_acc: 0.9950\n",
            "Epoch 21/40\n",
            " - 33s - loss: 0.0788 - acc: 0.9780 - val_loss: 0.0145 - val_acc: 0.9975\n",
            "Epoch 22/40\n",
            " - 33s - loss: 0.0731 - acc: 0.9775 - val_loss: 0.0168 - val_acc: 0.9950\n",
            "Epoch 23/40\n",
            " - 33s - loss: 0.0676 - acc: 0.9800 - val_loss: 0.0183 - val_acc: 0.9925\n",
            "Epoch 24/40\n",
            " - 33s - loss: 0.0584 - acc: 0.9811 - val_loss: 0.0154 - val_acc: 0.9925\n",
            "Epoch 25/40\n",
            " - 33s - loss: 0.0583 - acc: 0.9840 - val_loss: 0.0167 - val_acc: 0.9950\n",
            "Epoch 26/40\n",
            " - 33s - loss: 0.0687 - acc: 0.9790 - val_loss: 0.0159 - val_acc: 0.9925\n",
            "Epoch 27/40\n",
            " - 33s - loss: 0.0654 - acc: 0.9812 - val_loss: 0.0162 - val_acc: 0.9925\n",
            "Epoch 28/40\n",
            " - 33s - loss: 0.0671 - acc: 0.9809 - val_loss: 0.0188 - val_acc: 0.9900\n",
            "Epoch 29/40\n",
            " - 33s - loss: 0.0567 - acc: 0.9839 - val_loss: 0.0192 - val_acc: 0.9900\n",
            "Epoch 30/40\n",
            " - 33s - loss: 0.0597 - acc: 0.9823 - val_loss: 0.0171 - val_acc: 0.9950\n",
            "Epoch 31/40\n",
            " - 33s - loss: 0.0564 - acc: 0.9832 - val_loss: 0.0178 - val_acc: 0.9900\n",
            "Epoch 32/40\n",
            " - 33s - loss: 0.0629 - acc: 0.9835 - val_loss: 0.0174 - val_acc: 0.9900\n",
            "Epoch 33/40\n",
            " - 33s - loss: 0.0642 - acc: 0.9817 - val_loss: 0.0183 - val_acc: 0.9900\n",
            "Epoch 34/40\n",
            " - 33s - loss: 0.0502 - acc: 0.9842 - val_loss: 0.0169 - val_acc: 0.9950\n",
            "Epoch 35/40\n",
            " - 32s - loss: 0.0720 - acc: 0.9782 - val_loss: 0.0172 - val_acc: 0.9925\n",
            "Epoch 36/40\n",
            " - 32s - loss: 0.0596 - acc: 0.9816 - val_loss: 0.0172 - val_acc: 0.9925\n",
            "Epoch 37/40\n",
            " - 33s - loss: 0.0534 - acc: 0.9848 - val_loss: 0.0183 - val_acc: 0.9925\n",
            "Epoch 38/40\n",
            " - 33s - loss: 0.0604 - acc: 0.9824 - val_loss: 0.0170 - val_acc: 0.9925\n",
            "Epoch 39/40\n",
            " - 33s - loss: 0.0514 - acc: 0.9848 - val_loss: 0.0167 - val_acc: 0.9925\n",
            "Epoch 40/40\n",
            " - 33s - loss: 0.0570 - acc: 0.9828 - val_loss: 0.0170 - val_acc: 0.9925\n"
          ],
          "name": "stdout"
        }
      ]
    },
    {
      "metadata": {
        "id": "DT6_BLZuUevD",
        "colab_type": "code",
        "colab": {
          "base_uri": "https://localhost:8080/",
          "height": 34
        },
        "outputId": "7e89170b-68bc-4f61-866d-410b5adb2b83"
      },
      "cell_type": "code",
      "source": [
        "final_loss, final_acc = model.evaluate(x_val, y_val, verbose=0)\n",
        "print(\"Final loss: {0:.4f}, final accuracy: {1:.4f}\".format(final_loss, final_acc))"
      ],
      "execution_count": 93,
      "outputs": [
        {
          "output_type": "stream",
          "text": [
            "Final loss: 0.0189, final accuracy: 0.9943\n"
          ],
          "name": "stdout"
        }
      ]
    },
    {
      "metadata": {
        "id": "Z5NO4n7gW_cd",
        "colab_type": "code",
        "colab": {
          "base_uri": "https://localhost:8080/",
          "height": 738
        },
        "outputId": "ecd754eb-4644-4a4e-b3eb-63d4c860f543"
      },
      "cell_type": "code",
      "source": [
        "plt.figure(figsize = (20,6))\n",
        "plt.plot(hist.history['loss'], color='b')\n",
        "plt.plot(hist.history['val_loss'], color='r')\n",
        "plt.show()\n",
        "plt.figure(figsize = (20,6))\n",
        "plt.plot(hist.history['acc'], color='b')\n",
        "plt.plot(hist.history['val_acc'], color='r')\n",
        "plt.show()"
      ],
      "execution_count": 77,
      "outputs": [
        {
          "output_type": "display_data",
          "data": {
            "image/png": "[encoded data removed]",
            "text/plain": [
              "<Figure size 1440x432 with 1 Axes>"
            ]
          },
          "metadata": {
            "tags": []
          }
        },
        {
          "output_type": "display_data",
          "data": {
            "image/png": "[encoded data removed]",
            "text/plain": [
              "<Figure size 1440x432 with 1 Axes>"
            ]
          },
          "metadata": {
            "tags": []
          }
        }
      ]
    },
    {
      "metadata": {
        "id": "aYH_2imyYVWe",
        "colab_type": "code",
        "colab": {
          "base_uri": "https://localhost:8080/",
          "height": 194
        },
        "outputId": "46fdfb55-e332-4fa6-bdf8-4c2bf4c91cb8"
      },
      "cell_type": "code",
      "source": [
        "y_hat = model.predict(x_val)\n",
        "y_pred = np.argmax(y_hat, axis=1)\n",
        "y_true = np.argmax(y_val, axis=1)\n",
        "cm = confusion_matrix(y_true, y_pred)\n",
        "print(cm)"
      ],
      "execution_count": 78,
      "outputs": [
        {
          "output_type": "stream",
          "text": [
            "[[804   0   0   0   1   0   3   0   0   0]\n",
            " [  0 898   1   0   0   0   1   2   1   0]\n",
            " [  1   0 855   0   0   0   0   2   0   0]\n",
            " [  0   0   1 886   0   2   0   1   2   0]\n",
            " [  0   0   0   0 814   0   0   0   0   3]\n",
            " [  0   0   0   0   0 773   1   0   2   1]\n",
            " [  1   0   0   0   0   0 833   0   1   0]\n",
            " [  0   0   0   1   0   0   0 873   0   0]\n",
            " [  0   0   0   1   0   0   1   0 842   1]\n",
            " [  0   0   0   1   2   0   0   1   0 787]]\n"
          ],
          "name": "stdout"
        }
      ]
    },
    {
      "metadata": {
        "id": "Ox0VWHv5X9k7",
        "colab_type": "code",
        "colab": {}
      },
      "cell_type": "code",
      "source": [
        "x_test = test_data.astype(\"float32\")\n",
        "x_test = x_test.values.reshape(-1, 28, 28, 1)/255."
      ],
      "execution_count": 0,
      "outputs": []
    },
    {
      "metadata": {
        "id": "kClz0ga4zpNF",
        "colab_type": "code",
        "colab": {}
      },
      "cell_type": "code",
      "source": [
        "y_hat = model.predict(x_test, batch_size=64)"
      ],
      "execution_count": 0,
      "outputs": []
    },
    {
      "metadata": {
        "id": "IV8XSLjQ6la0",
        "colab_type": "code",
        "colab": {
          "base_uri": "https://localhost:8080/",
          "height": 247
        },
        "outputId": "bcdc54b5-4993-4f26-a8d1-d50a9a59979b"
      },
      "cell_type": "code",
      "source": [
        "y_hat"
      ],
      "execution_count": 97,
      "outputs": [
        {
          "output_type": "execute_result",
          "data": {
            "text/plain": [
              "array([[3.5977937e-12, 1.5901939e-11, 1.0000000e+00, ..., 2.6932552e-09,\n",
              "        4.0716066e-11, 2.2517413e-13],\n",
              "       [9.9999309e-01, 2.7299712e-10, 3.3586923e-07, ..., 1.0167949e-08,\n",
              "        1.5846356e-06, 2.9894873e-06],\n",
              "       [4.6238404e-09, 4.3328771e-11, 1.9511109e-08, ..., 3.3516224e-07,\n",
              "        4.4166909e-06, 9.9996305e-01],\n",
              "       ...,\n",
              "       [1.6836035e-20, 3.7757427e-17, 5.0875907e-15, ..., 2.9260386e-17,\n",
              "        5.5433809e-15, 1.5775697e-14],\n",
              "       [3.4706628e-07, 1.0482472e-08, 1.1178186e-06, ..., 5.8128597e-05,\n",
              "        3.7918812e-06, 9.9974495e-01],\n",
              "       [6.2466644e-13, 3.9949780e-12, 1.0000000e+00, ..., 1.6837670e-09,\n",
              "        2.1956430e-10, 7.5308640e-13]], dtype=float32)"
            ]
          },
          "metadata": {
            "tags": []
          },
          "execution_count": 97
        }
      ]
    },
    {
      "metadata": {
        "id": "_pvwIaf76wOC",
        "colab_type": "text"
      },
      "cell_type": "markdown",
      "source": [
        "y_hat consists of class probabilities (corresponding to the one-hot encoding of the training labels). I now select the class with highest probability"
      ]
    },
    {
      "metadata": {
        "id": "ns-Z4B2t6v65",
        "colab_type": "code",
        "colab": {}
      },
      "cell_type": "code",
      "source": [
        "y_pred = np.argmax(y_hat,axis=1)"
      ],
      "execution_count": 0,
      "outputs": []
    },
    {
      "metadata": {
        "id": "C-gPg8xQ6xvS",
        "colab_type": "code",
        "colab": {
          "base_uri": "https://localhost:8080/",
          "height": 197
        },
        "outputId": "48c3262b-1087-40d9-ea79-1f666a83f42a"
      },
      "cell_type": "code",
      "source": [
        "sample.head()"
      ],
      "execution_count": 101,
      "outputs": [
        {
          "output_type": "execute_result",
          "data": {
            "text/html": [
              "<div>\n",
              "<style scoped>\n",
              "    .dataframe tbody tr th:only-of-type {\n",
              "        vertical-align: middle;\n",
              "    }\n",
              "\n",
              "    .dataframe tbody tr th {\n",
              "        vertical-align: top;\n",
              "    }\n",
              "\n",
              "    .dataframe thead th {\n",
              "        text-align: right;\n",
              "    }\n",
              "</style>\n",
              "<table border=\"1\" class=\"dataframe\">\n",
              "  <thead>\n",
              "    <tr style=\"text-align: right;\">\n",
              "      <th></th>\n",
              "      <th>ImageId</th>\n",
              "      <th>Label</th>\n",
              "    </tr>\n",
              "  </thead>\n",
              "  <tbody>\n",
              "    <tr>\n",
              "      <th>0</th>\n",
              "      <td>1</td>\n",
              "      <td>0</td>\n",
              "    </tr>\n",
              "    <tr>\n",
              "      <th>1</th>\n",
              "      <td>2</td>\n",
              "      <td>0</td>\n",
              "    </tr>\n",
              "    <tr>\n",
              "      <th>2</th>\n",
              "      <td>3</td>\n",
              "      <td>0</td>\n",
              "    </tr>\n",
              "    <tr>\n",
              "      <th>3</th>\n",
              "      <td>4</td>\n",
              "      <td>0</td>\n",
              "    </tr>\n",
              "    <tr>\n",
              "      <th>4</th>\n",
              "      <td>5</td>\n",
              "      <td>0</td>\n",
              "    </tr>\n",
              "  </tbody>\n",
              "</table>\n",
              "</div>"
            ],
            "text/plain": [
              "   ImageId  Label\n",
              "0        1      0\n",
              "1        2      0\n",
              "2        3      0\n",
              "3        4      0\n",
              "4        5      0"
            ]
          },
          "metadata": {
            "tags": []
          },
          "execution_count": 101
        }
      ]
    },
    {
      "metadata": {
        "id": "2RUisNUS7HR8",
        "colab_type": "code",
        "colab": {
          "base_uri": "https://localhost:8080/",
          "height": 34
        },
        "outputId": "20633037-c07d-4dbc-bf3b-3fd784d9fb87"
      },
      "cell_type": "code",
      "source": [
        "sub_1 = pd.DataFrame({'ImageId' : sample['ImageId'],\n",
        "                     'Label'    : y_pred})\n",
        "sub_1.shape"
      ],
      "execution_count": 105,
      "outputs": [
        {
          "output_type": "execute_result",
          "data": {
            "text/plain": [
              "(28000, 2)"
            ]
          },
          "metadata": {
            "tags": []
          },
          "execution_count": 105
        }
      ]
    },
    {
      "metadata": {
        "id": "9Vh4haGN7HM5",
        "colab_type": "code",
        "colab": {}
      },
      "cell_type": "code",
      "source": [
        "sub_1.to_csv('drive/My Drive/MNIST/sub_1_CNN_MNIST.csv', index = False)"
      ],
      "execution_count": 0,
      "outputs": []
    },
    {
      "metadata": {
        "id": "QEmkblCYAgFj",
        "colab_type": "text"
      },
      "cell_type": "markdown",
      "source": [
        "# NCREASING DATA AUGMENTATION"
      ]
    },
    {
      "metadata": {
        "id": "H2He77YtAsPt",
        "colab_type": "code",
        "colab": {}
      },
      "cell_type": "code",
      "source": [
        "model = Sequential()\n",
        "\n",
        "model.add(Conv2D(filters = 16, kernel_size = (3, 3), activation='relu',\n",
        "                 input_shape = (28, 28, 1)))\n",
        "model.add(BatchNormalization())\n",
        "model.add(Conv2D(filters = 16, kernel_size = (3, 3), activation='relu'))\n",
        "model.add(BatchNormalization())\n",
        "#model.add(Conv2D(filters = 16, kernel_size = (3, 3), activation='relu'))\n",
        "#model.add(BatchNormalization())\n",
        "model.add(MaxPool2D(strides=(2,2)))\n",
        "model.add(Dropout(0.25))\n",
        "\n",
        "model.add(Conv2D(filters = 32, kernel_size = (3, 3), activation='relu'))\n",
        "model.add(BatchNormalization())\n",
        "model.add(Conv2D(filters = 32, kernel_size = (3, 3), activation='relu'))\n",
        "model.add(BatchNormalization())\n",
        "#model.add(Conv2D(filters = 32, kernel_size = (3, 3), activation='relu'))\n",
        "#model.add(BatchNormalization())\n",
        "model.add(MaxPool2D(strides=(2,2)))\n",
        "model.add(Dropout(0.25))\n",
        "\n",
        "model.add(Flatten())\n",
        "model.add(Dense(512, activation='relu'))\n",
        "model.add(Dropout(0.25))\n",
        "model.add(Dense(1024, activation='relu'))\n",
        "model.add(Dropout(0.5))\n",
        "model.add(Dense(10, activation='softmax'))"
      ],
      "execution_count": 0,
      "outputs": []
    },
    {
      "metadata": {
        "id": "Z2dPbxkLAsMc",
        "colab_type": "code",
        "colab": {}
      },
      "cell_type": "code",
      "source": [
        "datagen = ImageDataGenerator(\n",
        "        featurewise_center=False,  # set input mean to 0 over the dataset\n",
        "        samplewise_center=False,  # set each sample mean to 0\n",
        "        featurewise_std_normalization=False,  # divide inputs by std of the dataset\n",
        "        samplewise_std_normalization=False,  # divide each input by its std\n",
        "        zca_whitening=False,  # apply ZCA whitening\n",
        "        rotation_range=10,  # randomly rotate images in the range (degrees, 0 to 180)\n",
        "        zoom_range = 0.1, # Randomly zoom image \n",
        "        width_shift_range=0.1,  # randomly shift images horizontally (fraction of total width)\n",
        "        height_shift_range=0.1,  # randomly shift images vertically (fraction of total height)\n",
        "        horizontal_flip=False,  # randomly flip images\n",
        "        vertical_flip=False)  # randomly flip images\n",
        "\n"
      ],
      "execution_count": 0,
      "outputs": []
    },
    {
      "metadata": {
        "id": "imYYr4L_AsFs",
        "colab_type": "code",
        "colab": {}
      },
      "cell_type": "code",
      "source": [
        "optimizer = RMSprop(lr=0.001, rho=0.9, epsilon=1e-08, decay=0.0)\n",
        "model.compile(loss='categorical_crossentropy', optimizer = optimizer, metrics=[\"accuracy\"])\n",
        "#with adam 99.42"
      ],
      "execution_count": 0,
      "outputs": []
    },
    {
      "metadata": {
        "id": "gaM7iimlApH3",
        "colab_type": "code",
        "colab": {}
      },
      "cell_type": "code",
      "source": [
        "annealer = learning_rate_reduction = ReduceLROnPlateau(monitor='val_acc', \n",
        "                                            patience=3, \n",
        "                                            verbose=1, \n",
        "                                            factor=0.5, \n",
        "                                            min_lr=0.00001)"
      ],
      "execution_count": 0,
      "outputs": []
    },
    {
      "metadata": {
        "id": "eVUedsZACiC0",
        "colab_type": "code",
        "colab": {
          "base_uri": "https://localhost:8080/",
          "height": 10861
        },
        "outputId": "8f960db8-3899-44a2-8d9d-e014035a8401"
      },
      "cell_type": "code",
      "source": [
        "hist = model.fit_generator(datagen.flow(x_train, y_train, batch_size=16),\n",
        "                           steps_per_epoch=500,\n",
        "                           epochs= 300, #Increase this when not on Kaggle kernel\n",
        "                           verbose=2,  #1 for ETA, 0 for silent\n",
        "                           validation_data=(x_val[:400,:], y_val[:400,:]), #For speed\n",
        "                           callbacks=[annealer])"
      ],
      "execution_count": 42,
      "outputs": [
        {
          "output_type": "stream",
          "text": [
            "Epoch 1/300\n",
            " - 5s - loss: 0.1546 - acc: 0.9749 - val_loss: 0.0289 - val_acc: 0.9900\n",
            "Epoch 2/300\n",
            " - 5s - loss: 0.1538 - acc: 0.9744 - val_loss: 0.0456 - val_acc: 0.9875\n",
            "Epoch 3/300\n",
            " - 5s - loss: 0.1899 - acc: 0.9726 - val_loss: 0.0320 - val_acc: 0.9925\n",
            "Epoch 4/300\n",
            " - 5s - loss: 0.1736 - acc: 0.9705 - val_loss: 0.0355 - val_acc: 0.9925\n",
            "Epoch 5/300\n",
            " - 5s - loss: 0.1747 - acc: 0.9730 - val_loss: 0.0266 - val_acc: 0.9950\n",
            "Epoch 6/300\n",
            " - 5s - loss: 0.1647 - acc: 0.9705 - val_loss: 0.0392 - val_acc: 0.9925\n",
            "Epoch 7/300\n",
            " - 5s - loss: 0.1704 - acc: 0.9745 - val_loss: 0.0400 - val_acc: 0.9950\n",
            "Epoch 8/300\n",
            " - 5s - loss: 0.1803 - acc: 0.9718 - val_loss: 0.0345 - val_acc: 0.9950\n",
            "\n",
            "Epoch 00008: ReduceLROnPlateau reducing learning rate to 0.00011249999806750566.\n",
            "Epoch 9/300\n",
            " - 5s - loss: 0.1374 - acc: 0.9754 - val_loss: 0.0434 - val_acc: 0.9950\n",
            "Epoch 10/300\n",
            " - 5s - loss: 0.1655 - acc: 0.9753 - val_loss: 0.0292 - val_acc: 0.9950\n",
            "Epoch 11/300\n",
            " - 5s - loss: 0.1614 - acc: 0.9720 - val_loss: 0.0169 - val_acc: 0.9950\n",
            "\n",
            "Epoch 00011: ReduceLROnPlateau reducing learning rate to 5.624999903375283e-05.\n",
            "Epoch 12/300\n",
            " - 5s - loss: 0.1523 - acc: 0.9754 - val_loss: 0.0280 - val_acc: 0.9950\n",
            "Epoch 13/300\n",
            " - 5s - loss: 0.1611 - acc: 0.9758 - val_loss: 0.0252 - val_acc: 0.9950\n",
            "Epoch 14/300\n",
            " - 5s - loss: 0.1460 - acc: 0.9744 - val_loss: 0.0292 - val_acc: 0.9950\n",
            "\n",
            "Epoch 00014: ReduceLROnPlateau reducing learning rate to 2.8124999516876414e-05.\n",
            "Epoch 15/300\n",
            " - 5s - loss: 0.1471 - acc: 0.9759 - val_loss: 0.0215 - val_acc: 0.9950\n",
            "Epoch 16/300\n",
            " - 5s - loss: 0.1542 - acc: 0.9745 - val_loss: 0.0244 - val_acc: 0.9925\n",
            "Epoch 17/300\n",
            " - 5s - loss: 0.1606 - acc: 0.9758 - val_loss: 0.0283 - val_acc: 0.9925\n",
            "\n",
            "Epoch 00017: ReduceLROnPlateau reducing learning rate to 1.4062499758438207e-05.\n",
            "Epoch 18/300\n",
            " - 5s - loss: 0.1096 - acc: 0.9795 - val_loss: 0.0267 - val_acc: 0.9950\n",
            "Epoch 19/300\n",
            " - 5s - loss: 0.1498 - acc: 0.9754 - val_loss: 0.0246 - val_acc: 0.9950\n",
            "Epoch 20/300\n",
            " - 5s - loss: 0.1460 - acc: 0.9760 - val_loss: 0.0233 - val_acc: 0.9950\n",
            "\n",
            "Epoch 00020: ReduceLROnPlateau reducing learning rate to 1e-05.\n",
            "Epoch 21/300\n",
            " - 5s - loss: 0.1328 - acc: 0.9760 - val_loss: 0.0242 - val_acc: 0.9950\n",
            "Epoch 22/300\n",
            " - 5s - loss: 0.1509 - acc: 0.9774 - val_loss: 0.0230 - val_acc: 0.9950\n",
            "Epoch 23/300\n",
            " - 5s - loss: 0.1337 - acc: 0.9754 - val_loss: 0.0230 - val_acc: 0.9950\n",
            "Epoch 24/300\n",
            " - 5s - loss: 0.1230 - acc: 0.9796 - val_loss: 0.0244 - val_acc: 0.9950\n",
            "Epoch 25/300\n",
            " - 5s - loss: 0.1410 - acc: 0.9774 - val_loss: 0.0245 - val_acc: 0.9950\n",
            "Epoch 26/300\n",
            " - 5s - loss: 0.1559 - acc: 0.9761 - val_loss: 0.0240 - val_acc: 0.9950\n",
            "Epoch 27/300\n",
            " - 5s - loss: 0.1555 - acc: 0.9764 - val_loss: 0.0246 - val_acc: 0.9925\n",
            "Epoch 28/300\n",
            " - 5s - loss: 0.1466 - acc: 0.9761 - val_loss: 0.0235 - val_acc: 0.9950\n",
            "Epoch 29/300\n",
            " - 5s - loss: 0.1627 - acc: 0.9758 - val_loss: 0.0233 - val_acc: 0.9950\n",
            "Epoch 30/300\n",
            " - 5s - loss: 0.1302 - acc: 0.9756 - val_loss: 0.0235 - val_acc: 0.9950\n",
            "Epoch 31/300\n",
            " - 5s - loss: 0.1336 - acc: 0.9744 - val_loss: 0.0229 - val_acc: 0.9950\n",
            "Epoch 32/300\n",
            " - 5s - loss: 0.1416 - acc: 0.9745 - val_loss: 0.0239 - val_acc: 0.9950\n",
            "Epoch 33/300\n",
            " - 5s - loss: 0.1560 - acc: 0.9762 - val_loss: 0.0245 - val_acc: 0.9950\n",
            "Epoch 34/300\n",
            " - 5s - loss: 0.1343 - acc: 0.9778 - val_loss: 0.0274 - val_acc: 0.9950\n",
            "Epoch 35/300\n",
            " - 5s - loss: 0.1573 - acc: 0.9749 - val_loss: 0.0245 - val_acc: 0.9950\n",
            "Epoch 36/300\n",
            " - 5s - loss: 0.1515 - acc: 0.9762 - val_loss: 0.0248 - val_acc: 0.9950\n",
            "Epoch 37/300\n",
            " - 5s - loss: 0.1194 - acc: 0.9799 - val_loss: 0.0244 - val_acc: 0.9950\n",
            "Epoch 38/300\n",
            " - 5s - loss: 0.1611 - acc: 0.9758 - val_loss: 0.0269 - val_acc: 0.9950\n",
            "Epoch 39/300\n",
            " - 5s - loss: 0.1362 - acc: 0.9774 - val_loss: 0.0252 - val_acc: 0.9950\n",
            "Epoch 40/300\n",
            " - 5s - loss: 0.1126 - acc: 0.9790 - val_loss: 0.0231 - val_acc: 0.9950\n",
            "Epoch 41/300\n",
            " - 5s - loss: 0.1437 - acc: 0.9784 - val_loss: 0.0239 - val_acc: 0.9950\n",
            "Epoch 42/300\n",
            " - 5s - loss: 0.1445 - acc: 0.9761 - val_loss: 0.0246 - val_acc: 0.9950\n",
            "Epoch 43/300\n",
            " - 5s - loss: 0.1357 - acc: 0.9771 - val_loss: 0.0246 - val_acc: 0.9950\n",
            "Epoch 44/300\n",
            " - 5s - loss: 0.1444 - acc: 0.9771 - val_loss: 0.0244 - val_acc: 0.9950\n",
            "Epoch 45/300\n",
            " - 5s - loss: 0.1344 - acc: 0.9775 - val_loss: 0.0214 - val_acc: 0.9950\n",
            "Epoch 46/300\n",
            " - 5s - loss: 0.1538 - acc: 0.9759 - val_loss: 0.0225 - val_acc: 0.9950\n",
            "Epoch 47/300\n",
            " - 5s - loss: 0.1596 - acc: 0.9755 - val_loss: 0.0235 - val_acc: 0.9950\n",
            "Epoch 48/300\n",
            " - 5s - loss: 0.1312 - acc: 0.9776 - val_loss: 0.0229 - val_acc: 0.9950\n",
            "Epoch 49/300\n",
            " - 5s - loss: 0.1592 - acc: 0.9733 - val_loss: 0.0230 - val_acc: 0.9950\n",
            "Epoch 50/300\n",
            " - 5s - loss: 0.1594 - acc: 0.9742 - val_loss: 0.0232 - val_acc: 0.9950\n",
            "Epoch 51/300\n",
            " - 5s - loss: 0.1160 - acc: 0.9815 - val_loss: 0.0257 - val_acc: 0.9950\n",
            "Epoch 52/300\n",
            " - 5s - loss: 0.1611 - acc: 0.9746 - val_loss: 0.0262 - val_acc: 0.9950\n",
            "Epoch 53/300\n",
            " - 5s - loss: 0.1491 - acc: 0.9764 - val_loss: 0.0235 - val_acc: 0.9950\n",
            "Epoch 54/300\n",
            " - 5s - loss: 0.1713 - acc: 0.9754 - val_loss: 0.0239 - val_acc: 0.9950\n",
            "Epoch 55/300\n",
            " - 5s - loss: 0.1400 - acc: 0.9782 - val_loss: 0.0248 - val_acc: 0.9950\n",
            "Epoch 56/300\n",
            " - 5s - loss: 0.1531 - acc: 0.9765 - val_loss: 0.0247 - val_acc: 0.9925\n",
            "Epoch 57/300\n",
            " - 5s - loss: 0.1601 - acc: 0.9759 - val_loss: 0.0255 - val_acc: 0.9950\n",
            "Epoch 58/300\n",
            " - 5s - loss: 0.1604 - acc: 0.9742 - val_loss: 0.0259 - val_acc: 0.9925\n",
            "Epoch 59/300\n",
            " - 5s - loss: 0.1300 - acc: 0.9784 - val_loss: 0.0270 - val_acc: 0.9950\n",
            "Epoch 60/300\n",
            " - 5s - loss: 0.1493 - acc: 0.9768 - val_loss: 0.0288 - val_acc: 0.9925\n",
            "Epoch 61/300\n",
            " - 5s - loss: 0.1689 - acc: 0.9750 - val_loss: 0.0267 - val_acc: 0.9950\n",
            "Epoch 62/300\n",
            " - 5s - loss: 0.1261 - acc: 0.9769 - val_loss: 0.0269 - val_acc: 0.9950\n",
            "Epoch 63/300\n",
            " - 5s - loss: 0.1344 - acc: 0.9771 - val_loss: 0.0270 - val_acc: 0.9925\n",
            "Epoch 64/300\n",
            " - 5s - loss: 0.1600 - acc: 0.9760 - val_loss: 0.0267 - val_acc: 0.9950\n",
            "Epoch 65/300\n",
            " - 5s - loss: 0.1377 - acc: 0.9799 - val_loss: 0.0253 - val_acc: 0.9950\n",
            "Epoch 66/300\n",
            " - 5s - loss: 0.1477 - acc: 0.9759 - val_loss: 0.0253 - val_acc: 0.9950\n",
            "Epoch 67/300\n",
            " - 5s - loss: 0.1478 - acc: 0.9782 - val_loss: 0.0259 - val_acc: 0.9925\n",
            "Epoch 68/300\n",
            " - 5s - loss: 0.1453 - acc: 0.9771 - val_loss: 0.0255 - val_acc: 0.9925\n",
            "Epoch 69/300\n",
            " - 5s - loss: 0.1568 - acc: 0.9751 - val_loss: 0.0264 - val_acc: 0.9950\n",
            "Epoch 70/300\n",
            " - 5s - loss: 0.1439 - acc: 0.9768 - val_loss: 0.0281 - val_acc: 0.9950\n",
            "Epoch 71/300\n",
            " - 5s - loss: 0.1378 - acc: 0.9759 - val_loss: 0.0284 - val_acc: 0.9925\n",
            "Epoch 72/300\n",
            " - 5s - loss: 0.1600 - acc: 0.9765 - val_loss: 0.0281 - val_acc: 0.9925\n",
            "Epoch 73/300\n",
            " - 5s - loss: 0.1414 - acc: 0.9782 - val_loss: 0.0256 - val_acc: 0.9950\n",
            "Epoch 74/300\n",
            " - 5s - loss: 0.1399 - acc: 0.9776 - val_loss: 0.0254 - val_acc: 0.9950\n",
            "Epoch 75/300\n",
            " - 5s - loss: 0.1433 - acc: 0.9773 - val_loss: 0.0254 - val_acc: 0.9950\n",
            "Epoch 76/300\n",
            " - 5s - loss: 0.1426 - acc: 0.9768 - val_loss: 0.0275 - val_acc: 0.9950\n",
            "Epoch 77/300\n",
            " - 5s - loss: 0.1716 - acc: 0.9741 - val_loss: 0.0272 - val_acc: 0.9950\n",
            "Epoch 78/300\n",
            " - 5s - loss: 0.1599 - acc: 0.9747 - val_loss: 0.0274 - val_acc: 0.9950\n",
            "Epoch 79/300\n",
            " - 5s - loss: 0.1590 - acc: 0.9750 - val_loss: 0.0253 - val_acc: 0.9950\n",
            "Epoch 80/300\n",
            " - 5s - loss: 0.1558 - acc: 0.9770 - val_loss: 0.0256 - val_acc: 0.9950\n",
            "Epoch 81/300\n",
            " - 5s - loss: 0.1425 - acc: 0.9755 - val_loss: 0.0247 - val_acc: 0.9950\n",
            "Epoch 82/300\n",
            " - 5s - loss: 0.1544 - acc: 0.9755 - val_loss: 0.0244 - val_acc: 0.9950\n",
            "Epoch 83/300\n",
            " - 5s - loss: 0.1370 - acc: 0.9779 - val_loss: 0.0250 - val_acc: 0.9950\n",
            "Epoch 84/300\n",
            " - 5s - loss: 0.1671 - acc: 0.9741 - val_loss: 0.0271 - val_acc: 0.9950\n",
            "Epoch 85/300\n",
            " - 5s - loss: 0.1360 - acc: 0.9792 - val_loss: 0.0275 - val_acc: 0.9950\n",
            "Epoch 86/300\n",
            " - 5s - loss: 0.1665 - acc: 0.9725 - val_loss: 0.0260 - val_acc: 0.9950\n",
            "Epoch 87/300\n",
            " - 5s - loss: 0.1355 - acc: 0.9785 - val_loss: 0.0282 - val_acc: 0.9950\n",
            "Epoch 88/300\n",
            " - 5s - loss: 0.1603 - acc: 0.9751 - val_loss: 0.0272 - val_acc: 0.9950\n",
            "Epoch 89/300\n",
            " - 5s - loss: 0.1433 - acc: 0.9754 - val_loss: 0.0280 - val_acc: 0.9925\n",
            "Epoch 90/300\n",
            " - 5s - loss: 0.1514 - acc: 0.9765 - val_loss: 0.0277 - val_acc: 0.9950\n",
            "Epoch 91/300\n",
            " - 5s - loss: 0.1517 - acc: 0.9775 - val_loss: 0.0275 - val_acc: 0.9950\n",
            "Epoch 92/300\n",
            " - 5s - loss: 0.1497 - acc: 0.9765 - val_loss: 0.0269 - val_acc: 0.9950\n",
            "Epoch 93/300\n",
            " - 5s - loss: 0.1352 - acc: 0.9778 - val_loss: 0.0277 - val_acc: 0.9950\n",
            "Epoch 94/300\n",
            " - 5s - loss: 0.1614 - acc: 0.9750 - val_loss: 0.0264 - val_acc: 0.9950\n",
            "Epoch 95/300\n",
            " - 5s - loss: 0.1289 - acc: 0.9800 - val_loss: 0.0282 - val_acc: 0.9950\n",
            "Epoch 96/300\n",
            " - 5s - loss: 0.1336 - acc: 0.9809 - val_loss: 0.0289 - val_acc: 0.9950\n",
            "Epoch 97/300\n",
            " - 5s - loss: 0.1436 - acc: 0.9768 - val_loss: 0.0279 - val_acc: 0.9950\n",
            "Epoch 98/300\n",
            " - 5s - loss: 0.1603 - acc: 0.9738 - val_loss: 0.0291 - val_acc: 0.9950\n",
            "Epoch 99/300\n",
            " - 5s - loss: 0.1387 - acc: 0.9788 - val_loss: 0.0285 - val_acc: 0.9950\n",
            "Epoch 100/300\n",
            " - 5s - loss: 0.1287 - acc: 0.9776 - val_loss: 0.0274 - val_acc: 0.9950\n",
            "Epoch 101/300\n",
            " - 5s - loss: 0.1410 - acc: 0.9786 - val_loss: 0.0279 - val_acc: 0.9950\n",
            "Epoch 102/300\n",
            " - 5s - loss: 0.1491 - acc: 0.9774 - val_loss: 0.0276 - val_acc: 0.9950\n",
            "Epoch 103/300\n",
            " - 5s - loss: 0.1515 - acc: 0.9768 - val_loss: 0.0262 - val_acc: 0.9925\n",
            "Epoch 104/300\n",
            " - 5s - loss: 0.1409 - acc: 0.9756 - val_loss: 0.0265 - val_acc: 0.9925\n",
            "Epoch 105/300\n",
            " - 5s - loss: 0.1380 - acc: 0.9781 - val_loss: 0.0266 - val_acc: 0.9950\n",
            "Epoch 106/300\n",
            " - 5s - loss: 0.1523 - acc: 0.9754 - val_loss: 0.0248 - val_acc: 0.9925\n",
            "Epoch 107/300\n",
            " - 5s - loss: 0.1565 - acc: 0.9756 - val_loss: 0.0261 - val_acc: 0.9925\n",
            "Epoch 108/300\n",
            " - 5s - loss: 0.1408 - acc: 0.9773 - val_loss: 0.0272 - val_acc: 0.9925\n",
            "Epoch 109/300\n",
            " - 5s - loss: 0.1370 - acc: 0.9761 - val_loss: 0.0266 - val_acc: 0.9950\n",
            "Epoch 110/300\n",
            " - 5s - loss: 0.1541 - acc: 0.9770 - val_loss: 0.0265 - val_acc: 0.9925\n",
            "Epoch 111/300\n",
            " - 5s - loss: 0.1415 - acc: 0.9774 - val_loss: 0.0283 - val_acc: 0.9925\n",
            "Epoch 112/300\n",
            " - 5s - loss: 0.1619 - acc: 0.9750 - val_loss: 0.0273 - val_acc: 0.9950\n",
            "Epoch 113/300\n",
            " - 5s - loss: 0.1573 - acc: 0.9769 - val_loss: 0.0273 - val_acc: 0.9950\n",
            "Epoch 114/300\n",
            " - 5s - loss: 0.1524 - acc: 0.9779 - val_loss: 0.0248 - val_acc: 0.9950\n",
            "Epoch 115/300\n",
            " - 5s - loss: 0.1510 - acc: 0.9779 - val_loss: 0.0235 - val_acc: 0.9950\n",
            "Epoch 116/300\n",
            " - 5s - loss: 0.1160 - acc: 0.9805 - val_loss: 0.0246 - val_acc: 0.9925\n",
            "Epoch 117/300\n",
            " - 5s - loss: 0.1362 - acc: 0.9770 - val_loss: 0.0240 - val_acc: 0.9950\n",
            "Epoch 118/300\n",
            " - 5s - loss: 0.1564 - acc: 0.9749 - val_loss: 0.0246 - val_acc: 0.9950\n",
            "Epoch 119/300\n",
            " - 5s - loss: 0.1332 - acc: 0.9778 - val_loss: 0.0252 - val_acc: 0.9925\n",
            "Epoch 120/300\n",
            " - 5s - loss: 0.1440 - acc: 0.9751 - val_loss: 0.0251 - val_acc: 0.9925\n",
            "Epoch 121/300\n",
            " - 5s - loss: 0.1466 - acc: 0.9771 - val_loss: 0.0263 - val_acc: 0.9925\n",
            "Epoch 122/300\n",
            " - 5s - loss: 0.1512 - acc: 0.9746 - val_loss: 0.0268 - val_acc: 0.9950\n",
            "Epoch 123/300\n",
            " - 5s - loss: 0.1430 - acc: 0.9782 - val_loss: 0.0263 - val_acc: 0.9925\n",
            "Epoch 124/300\n",
            " - 5s - loss: 0.1533 - acc: 0.9749 - val_loss: 0.0266 - val_acc: 0.9925\n",
            "Epoch 125/300\n",
            " - 5s - loss: 0.1280 - acc: 0.9788 - val_loss: 0.0285 - val_acc: 0.9925\n",
            "Epoch 126/300\n",
            " - 5s - loss: 0.1501 - acc: 0.9765 - val_loss: 0.0272 - val_acc: 0.9950\n",
            "Epoch 127/300\n",
            " - 5s - loss: 0.1657 - acc: 0.9750 - val_loss: 0.0271 - val_acc: 0.9925\n",
            "Epoch 128/300\n",
            " - 5s - loss: 0.1397 - acc: 0.9784 - val_loss: 0.0283 - val_acc: 0.9925\n",
            "Epoch 129/300\n",
            " - 5s - loss: 0.1711 - acc: 0.9740 - val_loss: 0.0273 - val_acc: 0.9925\n",
            "Epoch 130/300\n",
            " - 5s - loss: 0.1727 - acc: 0.9744 - val_loss: 0.0280 - val_acc: 0.9925\n",
            "Epoch 131/300\n",
            " - 5s - loss: 0.1326 - acc: 0.9781 - val_loss: 0.0275 - val_acc: 0.9950\n",
            "Epoch 132/300\n",
            " - 5s - loss: 0.1565 - acc: 0.9754 - val_loss: 0.0275 - val_acc: 0.9925\n",
            "Epoch 133/300\n",
            " - 5s - loss: 0.1273 - acc: 0.9786 - val_loss: 0.0261 - val_acc: 0.9925\n",
            "Epoch 134/300\n",
            " - 5s - loss: 0.1641 - acc: 0.9747 - val_loss: 0.0245 - val_acc: 0.9925\n",
            "Epoch 135/300\n",
            " - 5s - loss: 0.1317 - acc: 0.9776 - val_loss: 0.0256 - val_acc: 0.9925\n",
            "Epoch 136/300\n",
            " - 5s - loss: 0.1660 - acc: 0.9738 - val_loss: 0.0255 - val_acc: 0.9950\n",
            "Epoch 137/300\n",
            " - 5s - loss: 0.1428 - acc: 0.9768 - val_loss: 0.0263 - val_acc: 0.9950\n",
            "Epoch 138/300\n",
            " - 5s - loss: 0.1574 - acc: 0.9750 - val_loss: 0.0277 - val_acc: 0.9950\n",
            "Epoch 139/300\n",
            " - 5s - loss: 0.1384 - acc: 0.9774 - val_loss: 0.0292 - val_acc: 0.9950\n",
            "Epoch 140/300\n",
            " - 5s - loss: 0.1515 - acc: 0.9764 - val_loss: 0.0278 - val_acc: 0.9950\n",
            "Epoch 141/300\n",
            " - 5s - loss: 0.1686 - acc: 0.9739 - val_loss: 0.0257 - val_acc: 0.9925\n",
            "Epoch 142/300\n",
            " - 5s - loss: 0.1438 - acc: 0.9760 - val_loss: 0.0259 - val_acc: 0.9925\n",
            "Epoch 143/300\n",
            " - 5s - loss: 0.1504 - acc: 0.9760 - val_loss: 0.0271 - val_acc: 0.9950\n",
            "Epoch 144/300\n",
            " - 5s - loss: 0.1398 - acc: 0.9782 - val_loss: 0.0262 - val_acc: 0.9950\n",
            "Epoch 145/300\n",
            " - 5s - loss: 0.1519 - acc: 0.9759 - val_loss: 0.0249 - val_acc: 0.9950\n",
            "Epoch 146/300\n",
            " - 5s - loss: 0.1488 - acc: 0.9753 - val_loss: 0.0248 - val_acc: 0.9950\n",
            "Epoch 147/300\n",
            " - 5s - loss: 0.1451 - acc: 0.9785 - val_loss: 0.0245 - val_acc: 0.9950\n",
            "Epoch 148/300\n",
            " - 5s - loss: 0.1489 - acc: 0.9746 - val_loss: 0.0242 - val_acc: 0.9950\n",
            "Epoch 149/300\n",
            " - 5s - loss: 0.1396 - acc: 0.9792 - val_loss: 0.0236 - val_acc: 0.9950\n",
            "Epoch 150/300\n",
            " - 5s - loss: 0.1486 - acc: 0.9731 - val_loss: 0.0247 - val_acc: 0.9950\n",
            "Epoch 151/300\n",
            " - 5s - loss: 0.1363 - acc: 0.9775 - val_loss: 0.0260 - val_acc: 0.9950\n",
            "Epoch 152/300\n",
            " - 5s - loss: 0.1393 - acc: 0.9771 - val_loss: 0.0255 - val_acc: 0.9950\n",
            "Epoch 153/300\n",
            " - 5s - loss: 0.1427 - acc: 0.9765 - val_loss: 0.0258 - val_acc: 0.9950\n",
            "Epoch 154/300\n",
            " - 5s - loss: 0.1541 - acc: 0.9746 - val_loss: 0.0233 - val_acc: 0.9950\n",
            "Epoch 155/300\n",
            " - 5s - loss: 0.1403 - acc: 0.9774 - val_loss: 0.0242 - val_acc: 0.9950\n",
            "Epoch 156/300\n",
            " - 5s - loss: 0.1392 - acc: 0.9774 - val_loss: 0.0253 - val_acc: 0.9925\n",
            "Epoch 157/300\n",
            " - 5s - loss: 0.1527 - acc: 0.9778 - val_loss: 0.0248 - val_acc: 0.9950\n",
            "Epoch 158/300\n",
            " - 5s - loss: 0.1480 - acc: 0.9766 - val_loss: 0.0267 - val_acc: 0.9950\n",
            "Epoch 159/300\n",
            " - 5s - loss: 0.1449 - acc: 0.9762 - val_loss: 0.0261 - val_acc: 0.9950\n",
            "Epoch 160/300\n",
            " - 5s - loss: 0.1565 - acc: 0.9771 - val_loss: 0.0247 - val_acc: 0.9925\n",
            "Epoch 161/300\n",
            " - 5s - loss: 0.1613 - acc: 0.9738 - val_loss: 0.0237 - val_acc: 0.9925\n",
            "Epoch 162/300\n",
            " - 5s - loss: 0.1589 - acc: 0.9756 - val_loss: 0.0234 - val_acc: 0.9925\n",
            "Epoch 163/300\n",
            " - 5s - loss: 0.1516 - acc: 0.9764 - val_loss: 0.0236 - val_acc: 0.9925\n",
            "Epoch 164/300\n",
            " - 5s - loss: 0.1466 - acc: 0.9775 - val_loss: 0.0240 - val_acc: 0.9925\n",
            "Epoch 165/300\n",
            " - 5s - loss: 0.1442 - acc: 0.9762 - val_loss: 0.0235 - val_acc: 0.9925\n",
            "Epoch 166/300\n",
            " - 5s - loss: 0.1795 - acc: 0.9734 - val_loss: 0.0230 - val_acc: 0.9925\n",
            "Epoch 167/300\n",
            " - 5s - loss: 0.1443 - acc: 0.9782 - val_loss: 0.0245 - val_acc: 0.9925\n",
            "Epoch 168/300\n",
            " - 5s - loss: 0.1635 - acc: 0.9773 - val_loss: 0.0251 - val_acc: 0.9925\n",
            "Epoch 169/300\n",
            " - 5s - loss: 0.1620 - acc: 0.9735 - val_loss: 0.0243 - val_acc: 0.9925\n",
            "Epoch 170/300\n",
            " - 5s - loss: 0.1516 - acc: 0.9754 - val_loss: 0.0244 - val_acc: 0.9925\n",
            "Epoch 171/300\n",
            " - 5s - loss: 0.1348 - acc: 0.9761 - val_loss: 0.0252 - val_acc: 0.9925\n",
            "Epoch 172/300\n",
            " - 5s - loss: 0.1333 - acc: 0.9770 - val_loss: 0.0244 - val_acc: 0.9925\n",
            "Epoch 173/300\n",
            " - 5s - loss: 0.1321 - acc: 0.9798 - val_loss: 0.0244 - val_acc: 0.9925\n",
            "Epoch 174/300\n",
            " - 5s - loss: 0.1336 - acc: 0.9770 - val_loss: 0.0253 - val_acc: 0.9925\n",
            "Epoch 175/300\n",
            " - 5s - loss: 0.1534 - acc: 0.9758 - val_loss: 0.0261 - val_acc: 0.9925\n",
            "Epoch 176/300\n",
            " - 5s - loss: 0.1364 - acc: 0.9795 - val_loss: 0.0261 - val_acc: 0.9950\n",
            "Epoch 177/300\n",
            " - 5s - loss: 0.1547 - acc: 0.9756 - val_loss: 0.0246 - val_acc: 0.9950\n",
            "Epoch 178/300\n",
            " - 5s - loss: 0.1582 - acc: 0.9754 - val_loss: 0.0241 - val_acc: 0.9950\n",
            "Epoch 179/300\n",
            " - 5s - loss: 0.1493 - acc: 0.9776 - val_loss: 0.0207 - val_acc: 0.9925\n",
            "Epoch 180/300\n",
            " - 5s - loss: 0.1426 - acc: 0.9755 - val_loss: 0.0232 - val_acc: 0.9925\n",
            "Epoch 181/300\n",
            " - 4s - loss: 0.1426 - acc: 0.9776 - val_loss: 0.0237 - val_acc: 0.9925\n",
            "Epoch 182/300\n",
            " - 5s - loss: 0.1254 - acc: 0.9795 - val_loss: 0.0232 - val_acc: 0.9925\n",
            "Epoch 183/300\n",
            " - 5s - loss: 0.1769 - acc: 0.9730 - val_loss: 0.0237 - val_acc: 0.9925\n",
            "Epoch 184/300\n",
            " - 5s - loss: 0.1291 - acc: 0.9790 - val_loss: 0.0224 - val_acc: 0.9925\n",
            "Epoch 185/300\n",
            " - 5s - loss: 0.1330 - acc: 0.9779 - val_loss: 0.0243 - val_acc: 0.9925\n",
            "Epoch 186/300\n",
            " - 5s - loss: 0.1642 - acc: 0.9762 - val_loss: 0.0246 - val_acc: 0.9925\n",
            "Epoch 187/300\n",
            " - 5s - loss: 0.1276 - acc: 0.9770 - val_loss: 0.0243 - val_acc: 0.9950\n",
            "Epoch 188/300\n",
            " - 5s - loss: 0.1531 - acc: 0.9755 - val_loss: 0.0242 - val_acc: 0.9925\n",
            "Epoch 189/300\n",
            " - 5s - loss: 0.1354 - acc: 0.9775 - val_loss: 0.0248 - val_acc: 0.9925\n",
            "Epoch 190/300\n",
            " - 5s - loss: 0.1470 - acc: 0.9755 - val_loss: 0.0241 - val_acc: 0.9925\n",
            "Epoch 191/300\n",
            " - 5s - loss: 0.1363 - acc: 0.9784 - val_loss: 0.0242 - val_acc: 0.9925\n",
            "Epoch 192/300\n",
            " - 5s - loss: 0.1581 - acc: 0.9764 - val_loss: 0.0263 - val_acc: 0.9950\n",
            "Epoch 193/300\n",
            " - 5s - loss: 0.1646 - acc: 0.9742 - val_loss: 0.0239 - val_acc: 0.9950\n",
            "Epoch 194/300\n",
            " - 5s - loss: 0.1463 - acc: 0.9764 - val_loss: 0.0251 - val_acc: 0.9950\n",
            "Epoch 195/300\n",
            " - 5s - loss: 0.1374 - acc: 0.9773 - val_loss: 0.0234 - val_acc: 0.9950\n",
            "Epoch 196/300\n",
            " - 4s - loss: 0.1539 - acc: 0.9774 - val_loss: 0.0225 - val_acc: 0.9925\n",
            "Epoch 197/300\n",
            " - 4s - loss: 0.1481 - acc: 0.9758 - val_loss: 0.0254 - val_acc: 0.9950\n",
            "Epoch 198/300\n",
            " - 5s - loss: 0.1706 - acc: 0.9731 - val_loss: 0.0246 - val_acc: 0.9925\n",
            "Epoch 199/300\n",
            " - 5s - loss: 0.1429 - acc: 0.9781 - val_loss: 0.0253 - val_acc: 0.9925\n",
            "Epoch 200/300\n",
            " - 5s - loss: 0.1332 - acc: 0.9766 - val_loss: 0.0272 - val_acc: 0.9950\n",
            "Epoch 201/300\n",
            " - 4s - loss: 0.1478 - acc: 0.9762 - val_loss: 0.0267 - val_acc: 0.9950\n",
            "Epoch 202/300\n",
            " - 4s - loss: 0.1625 - acc: 0.9766 - val_loss: 0.0268 - val_acc: 0.9950\n",
            "Epoch 203/300\n",
            " - 5s - loss: 0.1291 - acc: 0.9774 - val_loss: 0.0243 - val_acc: 0.9925\n",
            "Epoch 204/300\n",
            " - 5s - loss: 0.1585 - acc: 0.9761 - val_loss: 0.0275 - val_acc: 0.9925\n",
            "Epoch 205/300\n",
            " - 5s - loss: 0.1444 - acc: 0.9780 - val_loss: 0.0281 - val_acc: 0.9925\n",
            "Epoch 206/300\n",
            " - 5s - loss: 0.1526 - acc: 0.9762 - val_loss: 0.0278 - val_acc: 0.9950\n",
            "Epoch 207/300\n",
            " - 5s - loss: 0.1320 - acc: 0.9791 - val_loss: 0.0253 - val_acc: 0.9950\n",
            "Epoch 208/300\n",
            " - 5s - loss: 0.1501 - acc: 0.9756 - val_loss: 0.0248 - val_acc: 0.9950\n",
            "Epoch 209/300\n",
            " - 4s - loss: 0.1494 - acc: 0.9754 - val_loss: 0.0259 - val_acc: 0.9925\n",
            "Epoch 210/300\n",
            " - 5s - loss: 0.1422 - acc: 0.9773 - val_loss: 0.0251 - val_acc: 0.9925\n",
            "Epoch 211/300\n",
            " - 5s - loss: 0.1637 - acc: 0.9773 - val_loss: 0.0246 - val_acc: 0.9950\n",
            "Epoch 212/300\n",
            " - 5s - loss: 0.1653 - acc: 0.9742 - val_loss: 0.0265 - val_acc: 0.9950\n",
            "Epoch 213/300\n",
            " - 5s - loss: 0.1628 - acc: 0.9758 - val_loss: 0.0267 - val_acc: 0.9925\n",
            "Epoch 214/300\n",
            " - 5s - loss: 0.1445 - acc: 0.9760 - val_loss: 0.0258 - val_acc: 0.9950\n",
            "Epoch 215/300\n",
            " - 5s - loss: 0.1476 - acc: 0.9775 - val_loss: 0.0246 - val_acc: 0.9950\n",
            "Epoch 216/300\n",
            " - 5s - loss: 0.1531 - acc: 0.9770 - val_loss: 0.0261 - val_acc: 0.9925\n",
            "Epoch 217/300\n",
            " - 4s - loss: 0.1576 - acc: 0.9738 - val_loss: 0.0262 - val_acc: 0.9925\n",
            "Epoch 218/300\n",
            " - 5s - loss: 0.1623 - acc: 0.9754 - val_loss: 0.0237 - val_acc: 0.9925\n",
            "Epoch 219/300\n",
            " - 4s - loss: 0.1314 - acc: 0.9769 - val_loss: 0.0245 - val_acc: 0.9925\n",
            "Epoch 220/300\n",
            " - 4s - loss: 0.1275 - acc: 0.9791 - val_loss: 0.0256 - val_acc: 0.9925\n",
            "Epoch 221/300\n",
            " - 4s - loss: 0.1481 - acc: 0.9762 - val_loss: 0.0239 - val_acc: 0.9925\n",
            "Epoch 222/300\n",
            " - 5s - loss: 0.1570 - acc: 0.9765 - val_loss: 0.0235 - val_acc: 0.9925\n",
            "Epoch 223/300\n",
            " - 5s - loss: 0.1662 - acc: 0.9722 - val_loss: 0.0252 - val_acc: 0.9925\n",
            "Epoch 224/300\n",
            " - 5s - loss: 0.1506 - acc: 0.9745 - val_loss: 0.0248 - val_acc: 0.9925\n",
            "Epoch 225/300\n",
            " - 5s - loss: 0.1465 - acc: 0.9774 - val_loss: 0.0227 - val_acc: 0.9900\n",
            "Epoch 226/300\n",
            " - 5s - loss: 0.1391 - acc: 0.9784 - val_loss: 0.0243 - val_acc: 0.9925\n",
            "Epoch 227/300\n",
            " - 5s - loss: 0.1384 - acc: 0.9774 - val_loss: 0.0236 - val_acc: 0.9925\n",
            "Epoch 228/300\n",
            " - 5s - loss: 0.1751 - acc: 0.9735 - val_loss: 0.0244 - val_acc: 0.9925\n",
            "Epoch 229/300\n",
            " - 5s - loss: 0.1323 - acc: 0.9776 - val_loss: 0.0243 - val_acc: 0.9925\n",
            "Epoch 230/300\n",
            " - 5s - loss: 0.1763 - acc: 0.9740 - val_loss: 0.0242 - val_acc: 0.9925\n",
            "Epoch 231/300\n",
            " - 5s - loss: 0.1596 - acc: 0.9750 - val_loss: 0.0250 - val_acc: 0.9900\n",
            "Epoch 232/300\n",
            " - 5s - loss: 0.1628 - acc: 0.9744 - val_loss: 0.0233 - val_acc: 0.9925\n",
            "Epoch 233/300\n",
            " - 5s - loss: 0.1549 - acc: 0.9760 - val_loss: 0.0227 - val_acc: 0.9925\n",
            "Epoch 234/300\n",
            " - 5s - loss: 0.1509 - acc: 0.9768 - val_loss: 0.0256 - val_acc: 0.9925\n",
            "Epoch 235/300\n",
            " - 5s - loss: 0.1383 - acc: 0.9775 - val_loss: 0.0248 - val_acc: 0.9925\n",
            "Epoch 236/300\n",
            " - 5s - loss: 0.1492 - acc: 0.9780 - val_loss: 0.0255 - val_acc: 0.9900\n",
            "Epoch 237/300\n",
            " - 5s - loss: 0.1383 - acc: 0.9773 - val_loss: 0.0232 - val_acc: 0.9925\n",
            "Epoch 238/300\n",
            " - 5s - loss: 0.1418 - acc: 0.9758 - val_loss: 0.0235 - val_acc: 0.9925\n",
            "Epoch 239/300\n",
            " - 5s - loss: 0.1626 - acc: 0.9744 - val_loss: 0.0220 - val_acc: 0.9925\n",
            "Epoch 240/300\n",
            " - 5s - loss: 0.1676 - acc: 0.9746 - val_loss: 0.0240 - val_acc: 0.9925\n",
            "Epoch 241/300\n",
            " - 5s - loss: 0.1399 - acc: 0.9775 - val_loss: 0.0226 - val_acc: 0.9925\n",
            "Epoch 242/300\n",
            " - 5s - loss: 0.1406 - acc: 0.9770 - val_loss: 0.0236 - val_acc: 0.9925\n",
            "Epoch 243/300\n",
            " - 5s - loss: 0.1645 - acc: 0.9744 - val_loss: 0.0244 - val_acc: 0.9950\n",
            "Epoch 244/300\n",
            " - 5s - loss: 0.1479 - acc: 0.9784 - val_loss: 0.0248 - val_acc: 0.9925\n",
            "Epoch 245/300\n",
            " - 5s - loss: 0.1503 - acc: 0.9741 - val_loss: 0.0237 - val_acc: 0.9925\n",
            "Epoch 246/300\n",
            " - 5s - loss: 0.1519 - acc: 0.9775 - val_loss: 0.0237 - val_acc: 0.9925\n",
            "Epoch 247/300\n",
            " - 5s - loss: 0.1532 - acc: 0.9745 - val_loss: 0.0227 - val_acc: 0.9925\n",
            "Epoch 248/300\n",
            " - 5s - loss: 0.1514 - acc: 0.9741 - val_loss: 0.0252 - val_acc: 0.9925\n",
            "Epoch 249/300\n",
            " - 5s - loss: 0.1412 - acc: 0.9791 - val_loss: 0.0272 - val_acc: 0.9925\n",
            "Epoch 250/300\n",
            " - 5s - loss: 0.1494 - acc: 0.9773 - val_loss: 0.0269 - val_acc: 0.9925\n",
            "Epoch 251/300\n",
            " - 5s - loss: 0.1376 - acc: 0.9784 - val_loss: 0.0275 - val_acc: 0.9925\n",
            "Epoch 252/300\n",
            " - 5s - loss: 0.1495 - acc: 0.9786 - val_loss: 0.0257 - val_acc: 0.9925\n",
            "Epoch 253/300\n",
            " - 5s - loss: 0.1520 - acc: 0.9765 - val_loss: 0.0252 - val_acc: 0.9950\n",
            "Epoch 254/300\n",
            " - 5s - loss: 0.1554 - acc: 0.9734 - val_loss: 0.0261 - val_acc: 0.9925\n",
            "Epoch 255/300\n",
            " - 5s - loss: 0.1631 - acc: 0.9738 - val_loss: 0.0266 - val_acc: 0.9950\n",
            "Epoch 256/300\n",
            " - 5s - loss: 0.1454 - acc: 0.9761 - val_loss: 0.0256 - val_acc: 0.9925\n",
            "Epoch 257/300\n",
            " - 5s - loss: 0.1623 - acc: 0.9739 - val_loss: 0.0255 - val_acc: 0.9925\n",
            "Epoch 258/300\n",
            " - 5s - loss: 0.1555 - acc: 0.9746 - val_loss: 0.0250 - val_acc: 0.9925\n",
            "Epoch 259/300\n",
            " - 5s - loss: 0.1568 - acc: 0.9745 - val_loss: 0.0245 - val_acc: 0.9925\n",
            "Epoch 260/300\n",
            " - 5s - loss: 0.1654 - acc: 0.9724 - val_loss: 0.0255 - val_acc: 0.9925\n",
            "Epoch 261/300\n",
            " - 5s - loss: 0.1635 - acc: 0.9739 - val_loss: 0.0252 - val_acc: 0.9925\n",
            "Epoch 262/300\n",
            " - 5s - loss: 0.1477 - acc: 0.9766 - val_loss: 0.0248 - val_acc: 0.9925\n",
            "Epoch 263/300\n",
            " - 5s - loss: 0.1660 - acc: 0.9753 - val_loss: 0.0285 - val_acc: 0.9925\n",
            "Epoch 264/300\n",
            " - 5s - loss: 0.1543 - acc: 0.9744 - val_loss: 0.0278 - val_acc: 0.9925\n",
            "Epoch 265/300\n",
            " - 5s - loss: 0.1348 - acc: 0.9775 - val_loss: 0.0274 - val_acc: 0.9925\n",
            "Epoch 266/300\n",
            " - 5s - loss: 0.1451 - acc: 0.9760 - val_loss: 0.0262 - val_acc: 0.9925\n",
            "Epoch 267/300\n",
            " - 5s - loss: 0.1411 - acc: 0.9761 - val_loss: 0.0247 - val_acc: 0.9925\n",
            "Epoch 268/300\n",
            " - 5s - loss: 0.1515 - acc: 0.9762 - val_loss: 0.0249 - val_acc: 0.9925\n",
            "Epoch 269/300\n",
            " - 5s - loss: 0.1581 - acc: 0.9758 - val_loss: 0.0239 - val_acc: 0.9925\n",
            "Epoch 270/300\n",
            " - 5s - loss: 0.1694 - acc: 0.9742 - val_loss: 0.0236 - val_acc: 0.9925\n",
            "Epoch 271/300\n",
            " - 4s - loss: 0.1740 - acc: 0.9733 - val_loss: 0.0236 - val_acc: 0.9925\n",
            "Epoch 272/300\n",
            " - 5s - loss: 0.1372 - acc: 0.9789 - val_loss: 0.0228 - val_acc: 0.9925\n",
            "Epoch 273/300\n",
            " - 5s - loss: 0.1484 - acc: 0.9759 - val_loss: 0.0266 - val_acc: 0.9925\n",
            "Epoch 274/300\n",
            " - 4s - loss: 0.1429 - acc: 0.9747 - val_loss: 0.0264 - val_acc: 0.9925\n",
            "Epoch 275/300\n",
            " - 5s - loss: 0.1489 - acc: 0.9774 - val_loss: 0.0252 - val_acc: 0.9925\n",
            "Epoch 276/300\n",
            " - 5s - loss: 0.1357 - acc: 0.9778 - val_loss: 0.0254 - val_acc: 0.9925\n",
            "Epoch 277/300\n",
            " - 5s - loss: 0.1560 - acc: 0.9756 - val_loss: 0.0252 - val_acc: 0.9925\n",
            "Epoch 278/300\n",
            " - 5s - loss: 0.1716 - acc: 0.9729 - val_loss: 0.0227 - val_acc: 0.9925\n",
            "Epoch 279/300\n",
            " - 5s - loss: 0.1313 - acc: 0.9775 - val_loss: 0.0234 - val_acc: 0.9925\n",
            "Epoch 280/300\n",
            " - 5s - loss: 0.1501 - acc: 0.9754 - val_loss: 0.0243 - val_acc: 0.9925\n",
            "Epoch 281/300\n",
            " - 5s - loss: 0.1493 - acc: 0.9744 - val_loss: 0.0222 - val_acc: 0.9925\n",
            "Epoch 282/300\n",
            " - 5s - loss: 0.1628 - acc: 0.9744 - val_loss: 0.0212 - val_acc: 0.9925\n",
            "Epoch 283/300\n",
            " - 5s - loss: 0.1592 - acc: 0.9736 - val_loss: 0.0229 - val_acc: 0.9925\n",
            "Epoch 284/300\n",
            " - 4s - loss: 0.1385 - acc: 0.9760 - val_loss: 0.0219 - val_acc: 0.9925\n",
            "Epoch 285/300\n",
            " - 5s - loss: 0.1679 - acc: 0.9742 - val_loss: 0.0236 - val_acc: 0.9925\n",
            "Epoch 286/300\n",
            " - 5s - loss: 0.1386 - acc: 0.9746 - val_loss: 0.0253 - val_acc: 0.9925\n",
            "Epoch 287/300\n",
            " - 5s - loss: 0.1407 - acc: 0.9764 - val_loss: 0.0255 - val_acc: 0.9925\n",
            "Epoch 288/300\n",
            " - 5s - loss: 0.1500 - acc: 0.9761 - val_loss: 0.0249 - val_acc: 0.9925\n",
            "Epoch 289/300\n",
            " - 5s - loss: 0.1492 - acc: 0.9779 - val_loss: 0.0252 - val_acc: 0.9925\n",
            "Epoch 290/300\n",
            " - 5s - loss: 0.1449 - acc: 0.9749 - val_loss: 0.0272 - val_acc: 0.9925\n",
            "Epoch 291/300\n",
            " - 5s - loss: 0.1626 - acc: 0.9746 - val_loss: 0.0276 - val_acc: 0.9925\n",
            "Epoch 292/300\n",
            " - 4s - loss: 0.1295 - acc: 0.9776 - val_loss: 0.0250 - val_acc: 0.9925\n",
            "Epoch 293/300\n",
            " - 5s - loss: 0.1499 - acc: 0.9759 - val_loss: 0.0243 - val_acc: 0.9925\n",
            "Epoch 294/300\n",
            " - 5s - loss: 0.1723 - acc: 0.9728 - val_loss: 0.0228 - val_acc: 0.9925\n",
            "Epoch 295/300\n",
            " - 5s - loss: 0.1513 - acc: 0.9761 - val_loss: 0.0227 - val_acc: 0.9925\n",
            "Epoch 296/300\n",
            " - 4s - loss: 0.1312 - acc: 0.9764 - val_loss: 0.0247 - val_acc: 0.9925\n",
            "Epoch 297/300\n",
            " - 5s - loss: 0.1493 - acc: 0.9762 - val_loss: 0.0236 - val_acc: 0.9925\n",
            "Epoch 298/300\n",
            " - 5s - loss: 0.1654 - acc: 0.9758 - val_loss: 0.0249 - val_acc: 0.9925\n",
            "Epoch 299/300\n",
            " - 5s - loss: 0.1600 - acc: 0.9760 - val_loss: 0.0243 - val_acc: 0.9925\n",
            "Epoch 300/300\n",
            " - 5s - loss: 0.1509 - acc: 0.9754 - val_loss: 0.0240 - val_acc: 0.9925\n"
          ],
          "name": "stdout"
        }
      ]
    },
    {
      "metadata": {
        "id": "tDg8uMmxDrIL",
        "colab_type": "code",
        "colab": {
          "base_uri": "https://localhost:8080/",
          "height": 34
        },
        "outputId": "54b0d4ae-2a90-4aae-e412-d19fcd7235bd"
      },
      "cell_type": "code",
      "source": [
        "final_loss, final_acc = model.evaluate(x_val, y_val, verbose = 0)\n",
        "print(\"Final loss: {0:.4f}, final accuracy: {1:.4f}\".format(final_loss, final_acc))"
      ],
      "execution_count": 43,
      "outputs": [
        {
          "output_type": "stream",
          "text": [
            "Final loss: 0.0275, final accuracy: 0.9943\n"
          ],
          "name": "stdout"
        }
      ]
    },
    {
      "metadata": {
        "id": "zCXn8x5z-HSr",
        "colab_type": "text"
      },
      "cell_type": "markdown",
      "source": [
        "# Second Model"
      ]
    },
    {
      "metadata": {
        "id": "20pxP5Wr-Kb6",
        "colab_type": "code",
        "colab": {
          "base_uri": "https://localhost:8080/",
          "height": 143
        },
        "outputId": "4e287ca0-57cc-46a6-bd80-da83a1c121f1"
      },
      "cell_type": "code",
      "source": [
        "model = Sequential()\n",
        "\n",
        "model.add(Conv2D(filters = 32, kernel_size = (5,5),padding = 'Same', \n",
        "                 activation ='relu', input_shape = (28,28,1)))\n",
        "model.add(Conv2D(filters = 32, kernel_size = (5,5),padding = 'Same', \n",
        "                 activation ='relu'))\n",
        "model.add(MaxPool2D(pool_size=(2,2)))\n",
        "model.add(Dropout(0.25))\n",
        "\n",
        "\n",
        "model.add(Conv2D(filters = 64, kernel_size = (3,3),padding = 'Same', \n",
        "                 activation ='relu'))\n",
        "model.add(Conv2D(filters = 64, kernel_size = (3,3),padding = 'Same', \n",
        "                 activation ='relu'))\n",
        "model.add(MaxPool2D(pool_size=(2,2), strides=(2,2)))\n",
        "model.add(Dropout(0.25))\n",
        "\n",
        "\n",
        "model.add(Flatten())\n",
        "model.add(Dense(256, activation = \"relu\"))\n",
        "model.add(Dropout(0.5))\n",
        "model.add(Dense(10, activation = \"softmax\"))"
      ],
      "execution_count": 14,
      "outputs": [
        {
          "output_type": "stream",
          "text": [
            "WARNING:tensorflow:From /usr/local/lib/python3.6/dist-packages/tensorflow/python/framework/op_def_library.py:263: colocate_with (from tensorflow.python.framework.ops) is deprecated and will be removed in a future version.\n",
            "Instructions for updating:\n",
            "Colocations handled automatically by placer.\n",
            "WARNING:tensorflow:From /usr/local/lib/python3.6/dist-packages/keras/backend/tensorflow_backend.py:3445: calling dropout (from tensorflow.python.ops.nn_ops) with keep_prob is deprecated and will be removed in a future version.\n",
            "Instructions for updating:\n",
            "Please use `rate` instead of `keep_prob`. Rate should be set to `rate = 1 - keep_prob`.\n"
          ],
          "name": "stdout"
        }
      ]
    },
    {
      "metadata": {
        "id": "0R9wZ2Cd-N4q",
        "colab_type": "code",
        "colab": {}
      },
      "cell_type": "code",
      "source": [
        "# Define the optimizer\n",
        "optimizer = RMSprop(lr=0.001, rho=0.9, epsilon=1e-08, decay=0.0)"
      ],
      "execution_count": 0,
      "outputs": []
    },
    {
      "metadata": {
        "id": "-ydcX5m0_D5g",
        "colab_type": "code",
        "colab": {}
      },
      "cell_type": "code",
      "source": [
        "# Compile the model\n",
        "model.compile(optimizer = optimizer , loss = \"categorical_crossentropy\", metrics=[\"accuracy\"])"
      ],
      "execution_count": 0,
      "outputs": []
    },
    {
      "metadata": {
        "id": "VeAh1pnA_onZ",
        "colab_type": "text"
      },
      "cell_type": "markdown",
      "source": [
        "In order to make the optimizer converge faster and closest to the global minimum of the loss function, i used an annealing method of the learning rate (LR).\n",
        "\n",
        "The LR is the step by which the optimizer walks through the 'loss landscape'. The higher LR, the bigger are the steps and the quicker is the convergence. However the sampling is very poor with an high LR and the optimizer could probably fall into a local minima.\n",
        "\n",
        "Its better to have a decreasing learning rate during the training to reach efficiently the global minimum of the loss function.\n",
        "\n",
        "To keep the advantage of the fast computation time with a high LR, i decreased the LR dynamically every X steps (epochs) depending if it is necessary (when accuracy is not improved).\n",
        "\n",
        "With the ReduceLROnPlateau function from Keras.callbacks, i choose to reduce the LR by half if the accuracy is not improved after 3 epochs.\n",
        "\n"
      ]
    },
    {
      "metadata": {
        "id": "3a9mVhhN_YgD",
        "colab_type": "code",
        "colab": {}
      },
      "cell_type": "code",
      "source": [
        "# Set a learning rate annealer\n",
        "learning_rate_reduction = ReduceLROnPlateau(monitor='val_acc', \n",
        "                                            patience=3, \n",
        "                                            verbose=1, \n",
        "                                            factor=0.5, \n",
        "                                            min_lr=0.00001)\n"
      ],
      "execution_count": 0,
      "outputs": []
    },
    {
      "metadata": {
        "id": "rB5i-oGC_7FJ",
        "colab_type": "code",
        "colab": {}
      },
      "cell_type": "code",
      "source": [
        "epochs = 1 # Turn epochs to 30 to get 0.9967 accuracy\n",
        "batch_size = 86"
      ],
      "execution_count": 0,
      "outputs": []
    },
    {
      "metadata": {
        "id": "hybd323vAAhg",
        "colab_type": "code",
        "colab": {}
      },
      "cell_type": "code",
      "source": [
        "datagen = ImageDataGenerator(\n",
        "        featurewise_center=False,  # set input mean to 0 over the dataset\n",
        "        samplewise_center=False,  # set each sample mean to 0\n",
        "        featurewise_std_normalization=False,  # divide inputs by std of the dataset\n",
        "        samplewise_std_normalization=False,  # divide each input by its std\n",
        "        zca_whitening=False,  # apply ZCA whitening\n",
        "        rotation_range=10,  # randomly rotate images in the range (degrees, 0 to 180)\n",
        "        zoom_range = 0.1, # Randomly zoom image \n",
        "        width_shift_range=0.1,  # randomly shift images horizontally (fraction of total width)\n",
        "        height_shift_range=0.1,  # randomly shift images vertically (fraction of total height)\n",
        "        horizontal_flip=False,  # randomly flip images\n",
        "        vertical_flip=False)  # randomly flip images\n",
        "\n",
        "\n",
        "datagen.fit(X_train)"
      ],
      "execution_count": 0,
      "outputs": []
    },
    {
      "metadata": {
        "id": "byA8KaB3MtUz",
        "colab_type": "text"
      },
      "cell_type": "markdown",
      "source": [
        "# CNN BAGGED"
      ]
    },
    {
      "metadata": {
        "id": "U3guA18vMvW_",
        "colab_type": "code",
        "colab": {}
      },
      "cell_type": "code",
      "source": [
        "datagen = ImageDataGenerator(\n",
        "        rotation_range=10,  \n",
        "        zoom_range = 0.10,  \n",
        "        width_shift_range=0.1, \n",
        "        height_shift_range=0.1)\n",
        "#99.74"
      ],
      "execution_count": 0,
      "outputs": []
    },
    {
      "metadata": {
        "id": "3mnnYJZq_5E7",
        "colab_type": "code",
        "colab": {}
      },
      "cell_type": "code",
      "source": [
        "datagen = ImageDataGenerator(\n",
        "        featurewise_center=False,  # set input mean to 0 over the dataset\n",
        "        samplewise_center=False,  # set each sample mean to 0\n",
        "        featurewise_std_normalization=False,  # divide inputs by std of the dataset\n",
        "        samplewise_std_normalization=False,  # divide each input by its std\n",
        "        zca_whitening=False,  # apply ZCA whitening\n",
        "        rotation_range=10,  # randomly rotate images in the range (degrees, 0 to 180)\n",
        "        zoom_range = 0.1, # Randomly zoom image \n",
        "        width_shift_range=0.1,  # randomly shift images horizontally (fraction of total width)\n",
        "        height_shift_range=0.1,  # randomly shift images vertically (fraction of total height)\n",
        "        horizontal_flip=False,  # randomly flip images\n",
        "        vertical_flip=False)  # randomly flip images\n",
        "\n"
      ],
      "execution_count": 0,
      "outputs": []
    },
    {
      "metadata": {
        "id": "0d199qXraX8r",
        "colab_type": "code",
        "colab": {}
      },
      "cell_type": "code",
      "source": [
        "Y_train  = train_data[\"label\"]\n",
        "X_train  = train_data.drop([\"label\"],axis = 1)\n",
        "X_train  = X_train / 255.0\n",
        "X_test   = test_data / 255.0\n",
        "X_train  = X_train.values.reshape(-1,28,28,1)\n",
        "X_test   = X_test.values.reshape(-1,28,28,1)\n",
        "Y_train  = to_categorical(Y_train, num_classes = 10)"
      ],
      "execution_count": 0,
      "outputs": []
    },
    {
      "metadata": {
        "id": "LiSNyE7wcrfa",
        "colab_type": "code",
        "colab": {
          "base_uri": "https://localhost:8080/",
          "height": 294
        },
        "outputId": "fbe5af03-5a25-4abc-a812-d63e940e57e8"
      },
      "cell_type": "code",
      "source": [
        "# PREVIEW AUGMENTED IMAGES\n",
        "X_train3 = X_train[9,].reshape((1,28,28,1))\n",
        "Y_train3 = Y_train[9,].reshape((1,10))\n",
        "plt.figure(figsize=(15,4.5))\n",
        "for i in range(30):  \n",
        "    plt.subplot(3, 10, i+1)\n",
        "    X_train2, Y_train2 = datagen.flow(X_train3,Y_train3).next()\n",
        "    plt.imshow(X_train2[0].reshape((28,28)),cmap=plt.cm.binary)\n",
        "    plt.axis('off')\n",
        "    if i==9: X_train3 = X_train[11,].reshape((1,28,28,1))\n",
        "    if i==19: X_train3 = X_train[18,].reshape((1,28,28,1))\n",
        "plt.subplots_adjust(wspace=-0.1, hspace=-0.1)\n",
        "plt.show()"
      ],
      "execution_count": 8,
      "outputs": [
        {
          "output_type": "display_data",
          "data": {
            "image/png": "[encoded data removed]",
            "text/plain": [
              "<Figure size 1080x324 with 30 Axes>"
            ]
          },
          "metadata": {
            "tags": []
          }
        }
      ]
    },
    {
      "metadata": {
        "id": "B0SvDW03c9Wn",
        "colab_type": "code",
        "colab": {}
      },
      "cell_type": "code",
      "source": [
        "nets = 10\n",
        "model = [0] *nets\n",
        "for j in range(nets):\n",
        "    model[j] = Sequential()\n",
        "\n",
        "    model[j].add(Conv2D(32, kernel_size = 3, activation='relu', input_shape = (28, 28, 1)))\n",
        "    model[j].add(BatchNormalization())\n",
        "    model[j].add(Conv2D(32, kernel_size = 3, activation='relu'))\n",
        "    model[j].add(BatchNormalization())\n",
        "    model[j].add(Conv2D(32, kernel_size = 5, strides=2, padding='same', activation='relu'))\n",
        "    model[j].add(BatchNormalization())\n",
        "    model[j].add(Dropout(0.4))\n",
        "\n",
        "    model[j].add(Conv2D(64, kernel_size = 3, activation='relu'))\n",
        "    model[j].add(BatchNormalization())\n",
        "    model[j].add(Conv2D(64, kernel_size = 3, activation='relu'))\n",
        "    model[j].add(BatchNormalization())\n",
        "    model[j].add(Conv2D(64, kernel_size = 5, strides=2, padding='same', activation='relu'))\n",
        "    model[j].add(BatchNormalization())\n",
        "    model[j].add(Dropout(0.4))\n",
        "\n",
        "    model[j].add(Conv2D(128, kernel_size = 4, activation='relu'))\n",
        "    model[j].add(BatchNormalization())\n",
        "    model[j].add(Flatten())\n",
        "    model[j].add(Dropout(0.4))\n",
        "    model[j].add(Dense(10, activation='softmax'))\n",
        "\n",
        "    # COMPILE WITH ADAM OPTIMIZER AND CROSS ENTROPY COST\n",
        "    model[j].compile(optimizer=\"adam\", loss=\"categorical_crossentropy\", metrics=[\"accuracy\"])"
      ],
      "execution_count": 0,
      "outputs": []
    },
    {
      "metadata": {
        "id": "iXngRvRKcAbs",
        "colab_type": "code",
        "colab": {
          "base_uri": "https://localhost:8080/",
          "height": 246
        },
        "outputId": "6491af24-f897-4755-d2b2-35a96d7ee61c"
      },
      "cell_type": "code",
      "source": [
        "test_data.head()"
      ],
      "execution_count": 10,
      "outputs": [
        {
          "output_type": "execute_result",
          "data": {
            "text/html": [
              "<div>\n",
              "<style scoped>\n",
              "    .dataframe tbody tr th:only-of-type {\n",
              "        vertical-align: middle;\n",
              "    }\n",
              "\n",
              "    .dataframe tbody tr th {\n",
              "        vertical-align: top;\n",
              "    }\n",
              "\n",
              "    .dataframe thead th {\n",
              "        text-align: right;\n",
              "    }\n",
              "</style>\n",
              "<table border=\"1\" class=\"dataframe\">\n",
              "  <thead>\n",
              "    <tr style=\"text-align: right;\">\n",
              "      <th></th>\n",
              "      <th>pixel0</th>\n",
              "      <th>pixel1</th>\n",
              "      <th>pixel2</th>\n",
              "      <th>pixel3</th>\n",
              "      <th>pixel4</th>\n",
              "      <th>pixel5</th>\n",
              "      <th>pixel6</th>\n",
              "      <th>pixel7</th>\n",
              "      <th>pixel8</th>\n",
              "      <th>pixel9</th>\n",
              "      <th>...</th>\n",
              "      <th>pixel774</th>\n",
              "      <th>pixel775</th>\n",
              "      <th>pixel776</th>\n",
              "      <th>pixel777</th>\n",
              "      <th>pixel778</th>\n",
              "      <th>pixel779</th>\n",
              "      <th>pixel780</th>\n",
              "      <th>pixel781</th>\n",
              "      <th>pixel782</th>\n",
              "      <th>pixel783</th>\n",
              "    </tr>\n",
              "  </thead>\n",
              "  <tbody>\n",
              "    <tr>\n",
              "      <th>0</th>\n",
              "      <td>0</td>\n",
              "      <td>0</td>\n",
              "      <td>0</td>\n",
              "      <td>0</td>\n",
              "      <td>0</td>\n",
              "      <td>0</td>\n",
              "      <td>0</td>\n",
              "      <td>0</td>\n",
              "      <td>0</td>\n",
              "      <td>0</td>\n",
              "      <td>...</td>\n",
              "      <td>0</td>\n",
              "      <td>0</td>\n",
              "      <td>0</td>\n",
              "      <td>0</td>\n",
              "      <td>0</td>\n",
              "      <td>0</td>\n",
              "      <td>0</td>\n",
              "      <td>0</td>\n",
              "      <td>0</td>\n",
              "      <td>0</td>\n",
              "    </tr>\n",
              "    <tr>\n",
              "      <th>1</th>\n",
              "      <td>0</td>\n",
              "      <td>0</td>\n",
              "      <td>0</td>\n",
              "      <td>0</td>\n",
              "      <td>0</td>\n",
              "      <td>0</td>\n",
              "      <td>0</td>\n",
              "      <td>0</td>\n",
              "      <td>0</td>\n",
              "      <td>0</td>\n",
              "      <td>...</td>\n",
              "      <td>0</td>\n",
              "      <td>0</td>\n",
              "      <td>0</td>\n",
              "      <td>0</td>\n",
              "      <td>0</td>\n",
              "      <td>0</td>\n",
              "      <td>0</td>\n",
              "      <td>0</td>\n",
              "      <td>0</td>\n",
              "      <td>0</td>\n",
              "    </tr>\n",
              "    <tr>\n",
              "      <th>2</th>\n",
              "      <td>0</td>\n",
              "      <td>0</td>\n",
              "      <td>0</td>\n",
              "      <td>0</td>\n",
              "      <td>0</td>\n",
              "      <td>0</td>\n",
              "      <td>0</td>\n",
              "      <td>0</td>\n",
              "      <td>0</td>\n",
              "      <td>0</td>\n",
              "      <td>...</td>\n",
              "      <td>0</td>\n",
              "      <td>0</td>\n",
              "      <td>0</td>\n",
              "      <td>0</td>\n",
              "      <td>0</td>\n",
              "      <td>0</td>\n",
              "      <td>0</td>\n",
              "      <td>0</td>\n",
              "      <td>0</td>\n",
              "      <td>0</td>\n",
              "    </tr>\n",
              "    <tr>\n",
              "      <th>3</th>\n",
              "      <td>0</td>\n",
              "      <td>0</td>\n",
              "      <td>0</td>\n",
              "      <td>0</td>\n",
              "      <td>0</td>\n",
              "      <td>0</td>\n",
              "      <td>0</td>\n",
              "      <td>0</td>\n",
              "      <td>0</td>\n",
              "      <td>0</td>\n",
              "      <td>...</td>\n",
              "      <td>0</td>\n",
              "      <td>0</td>\n",
              "      <td>0</td>\n",
              "      <td>0</td>\n",
              "      <td>0</td>\n",
              "      <td>0</td>\n",
              "      <td>0</td>\n",
              "      <td>0</td>\n",
              "      <td>0</td>\n",
              "      <td>0</td>\n",
              "    </tr>\n",
              "    <tr>\n",
              "      <th>4</th>\n",
              "      <td>0</td>\n",
              "      <td>0</td>\n",
              "      <td>0</td>\n",
              "      <td>0</td>\n",
              "      <td>0</td>\n",
              "      <td>0</td>\n",
              "      <td>0</td>\n",
              "      <td>0</td>\n",
              "      <td>0</td>\n",
              "      <td>0</td>\n",
              "      <td>...</td>\n",
              "      <td>0</td>\n",
              "      <td>0</td>\n",
              "      <td>0</td>\n",
              "      <td>0</td>\n",
              "      <td>0</td>\n",
              "      <td>0</td>\n",
              "      <td>0</td>\n",
              "      <td>0</td>\n",
              "      <td>0</td>\n",
              "      <td>0</td>\n",
              "    </tr>\n",
              "  </tbody>\n",
              "</table>\n",
              "<p>5 rows × 784 columns</p>\n",
              "</div>"
            ],
            "text/plain": [
              "   pixel0  pixel1  pixel2  pixel3  pixel4  pixel5  pixel6  pixel7  pixel8  \\\n",
              "0       0       0       0       0       0       0       0       0       0   \n",
              "1       0       0       0       0       0       0       0       0       0   \n",
              "2       0       0       0       0       0       0       0       0       0   \n",
              "3       0       0       0       0       0       0       0       0       0   \n",
              "4       0       0       0       0       0       0       0       0       0   \n",
              "\n",
              "   pixel9  ...  pixel774  pixel775  pixel776  pixel777  pixel778  pixel779  \\\n",
              "0       0  ...         0         0         0         0         0         0   \n",
              "1       0  ...         0         0         0         0         0         0   \n",
              "2       0  ...         0         0         0         0         0         0   \n",
              "3       0  ...         0         0         0         0         0         0   \n",
              "4       0  ...         0         0         0         0         0         0   \n",
              "\n",
              "   pixel780  pixel781  pixel782  pixel783  \n",
              "0         0         0         0         0  \n",
              "1         0         0         0         0  \n",
              "2         0         0         0         0  \n",
              "3         0         0         0         0  \n",
              "4         0         0         0         0  \n",
              "\n",
              "[5 rows x 784 columns]"
            ]
          },
          "metadata": {
            "tags": []
          },
          "execution_count": 10
        }
      ]
    },
    {
      "metadata": {
        "id": "ik3_hE4zZ53t",
        "colab_type": "code",
        "colab": {
          "base_uri": "https://localhost:8080/",
          "height": 194
        },
        "outputId": "a1705629-4433-4280-b039-24b1a88a8d19"
      },
      "cell_type": "code",
      "source": [
        "# DECREASE LEARNING RATE EACH EPOCH\n",
        "annealer = LearningRateScheduler(lambda x: 1e-3 * 0.95 ** x)\n",
        "# TRAIN NETWORKS\n",
        "history = [0] * nets\n",
        "epochs = 45\n",
        "for j in range(nets):\n",
        "    X_train2, X_val2, Y_train2, Y_val2 = train_test_split(X_train, Y_train, test_size = 0.1)\n",
        "    history[j] = model[j].fit_generator(datagen.flow(X_train2,Y_train2, batch_size=64),\n",
        "        epochs = epochs, steps_per_epoch = X_train2.shape[0]//64,  \n",
        "        validation_data = (X_val2,Y_val2), callbacks=[annealer], verbose=0)\n",
        "    print(\"CNN {0:d}: Epochs={1:d}, Train accuracy={2:.5f}, Validation accuracy={3:.5f}\".format(\n",
        "        j+1,epochs,max(history[j].history['acc']),max(history[j].history['val_acc']) ))"
      ],
      "execution_count": 17,
      "outputs": [
        {
          "output_type": "stream",
          "text": [
            "CNN 1: Epochs=45, Train accuracy=0.99587, Validation accuracy=0.99643\n",
            "CNN 2: Epochs=45, Train accuracy=0.99605, Validation accuracy=0.99524\n",
            "CNN 3: Epochs=45, Train accuracy=0.99637, Validation accuracy=0.99500\n",
            "CNN 4: Epochs=45, Train accuracy=0.99616, Validation accuracy=0.99667\n",
            "CNN 5: Epochs=45, Train accuracy=0.99650, Validation accuracy=0.99333\n",
            "CNN 6: Epochs=45, Train accuracy=0.99621, Validation accuracy=0.99619\n",
            "CNN 7: Epochs=45, Train accuracy=0.99656, Validation accuracy=0.99571\n",
            "CNN 8: Epochs=45, Train accuracy=0.99618, Validation accuracy=0.99786\n",
            "CNN 9: Epochs=45, Train accuracy=0.99642, Validation accuracy=0.99548\n",
            "CNN 10: Epochs=45, Train accuracy=0.99613, Validation accuracy=0.99595\n"
          ],
          "name": "stdout"
        }
      ]
    },
    {
      "metadata": {
        "id": "h6qrMybkfAah",
        "colab_type": "code",
        "colab": {}
      },
      "cell_type": "code",
      "source": [
        "# ENSEMBLE PREDICTIONS AND SUBMIT\n",
        "results = np.zeros( (X_test.shape[0],10) ) \n",
        "for j in range(nets):\n",
        "    results = results + model[j].predict(X_test)\n",
        "results = np.argmax(results,axis = 1)\n",
        "results = pd.Series(results,name=\"Label\")\n",
        "submission = pd.concat([pd.Series(range(1,28001),name = \"ImageId\"),results],axis = 1)\n",
        "submission.to_csv('drive/My Drive/MNIST/sub_2_CNN_MNIST_BAGGED_20_bagged.csv',index=False)\n",
        "\n",
        "#99.75 result. top 200\n"
      ],
      "execution_count": 0,
      "outputs": []
    },
    {
      "metadata": {
        "id": "RlFMTP1p_OT1",
        "colab_type": "code",
        "colab": {}
      },
      "cell_type": "code",
      "source": [
        ""
      ],
      "execution_count": 0,
      "outputs": []
    }
  ]
}